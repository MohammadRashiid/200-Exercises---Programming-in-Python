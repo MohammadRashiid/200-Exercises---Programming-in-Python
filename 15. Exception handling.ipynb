{
 "cells": [
  {
   "cell_type": "markdown",
   "id": "eb156b4c",
   "metadata": {},
   "source": [
    "**Exercise 1 Two variables defined below are given:**\n",
    "\n",
    "sum = 3000\n",
    "counter = 0\n",
    "\n",
    "We want to divide the variable sum by the counter variable. Using the try... except... clause handle the ZeroDivisionError. If the division is done correctly, print the result to the console, otherwise print to the console the following message:\n",
    "\n",
    "'Division by zero.'"
   ]
  },
  {
   "cell_type": "code",
   "execution_count": 3,
   "id": "0df14607",
   "metadata": {},
   "outputs": [
    {
     "name": "stdout",
     "output_type": "stream",
     "text": [
      "Division by zero.\n"
     ]
    }
   ],
   "source": [
    "summ = 3000 \n",
    "counter = 0\n",
    "\n",
    "try:\n",
    "    a = summ/counter\n",
    "    print(a)\n",
    "except ZeroDivisionError:\n",
    "    print('Division by zero.')"
   ]
  },
  {
   "cell_type": "markdown",
   "id": "01715892",
   "metadata": {},
   "source": [
    "**Exercise 2 Sometimes we need to open a file without knowing if such a file exists. When file doesn't exist the FileNotFoundError is raised.**\n",
    "\n",
    "Using the try... except... clause, handle with this problem.\n",
    "\n",
    "Use this code snippet to read the content of the file:\n",
    "\n",
    "with open('file.txt', 'r') as file:\n",
    "    content = file.read()\n",
    "\n",
    "Try to open file.txt using the above code. If the file.txt does not exist, print to the console following message:\n",
    "\n",
    "'File not found.'\n"
   ]
  },
  {
   "cell_type": "code",
   "execution_count": 12,
   "id": "9b63b63f",
   "metadata": {},
   "outputs": [
    {
     "name": "stdout",
     "output_type": "stream",
     "text": [
      "File not found.\n"
     ]
    }
   ],
   "source": [
    "try:\n",
    "    with open('file.txt','r') as file: \n",
    "        content = file.read()\n",
    "except FileNotFoundError:\n",
    "    print('File not found.')"
   ]
  },
  {
   "cell_type": "markdown",
   "id": "7056c61f",
   "metadata": {},
   "source": [
    "**Exercise 3 The following dictionary is given:**\n",
    "\n",
    "users = {'001': 'Mark', '002': 'Monica', '003': 'Jacob'}\n",
    "\n",
    "Try printing the value for the key:\n",
    "\n",
    "user_id = '004'\n",
    "\n",
    "In case of a KeyError, print to the console the following message:\n",
    "\n",
    "'The 004 key is not in the dictionary. Adding key ...'\n",
    "\n",
    "Then add this key to the dictionary with the value None and print the users dictionary to the console.\n",
    "\n",
    "Expected result:\n",
    "\n",
    "The 004 key is not in the dictionary. Adding key ...\n",
    "{'001': 'Mark', '002': 'Monica', '003': 'Jacob', '004': None}"
   ]
  },
  {
   "cell_type": "code",
   "execution_count": 16,
   "id": "c2708c40",
   "metadata": {},
   "outputs": [
    {
     "name": "stdout",
     "output_type": "stream",
     "text": [
      "The 004 key is not in the dictionary. Adding key ... \n",
      "{'001': 'Mark', '002': 'Monica', '003': 'Jacob', '004': None}\n"
     ]
    }
   ],
   "source": [
    "users = {'001': 'Mark', '002': 'Monica', '003': 'Jacob'}\n",
    "try:\n",
    "    print(users['004'])\n",
    "except KeyError:\n",
    "    print(\"The 004 key is not in the dictionary. Adding key ... \")\n",
    "    users['004']=None\n",
    "print(users)    "
   ]
  }
 ],
 "metadata": {
  "kernelspec": {
   "display_name": "Python 3 (ipykernel)",
   "language": "python",
   "name": "python3"
  },
  "language_info": {
   "codemirror_mode": {
    "name": "ipython",
    "version": 3
   },
   "file_extension": ".py",
   "mimetype": "text/x-python",
   "name": "python",
   "nbconvert_exporter": "python",
   "pygments_lexer": "ipython3",
   "version": "3.9.12"
  }
 },
 "nbformat": 4,
 "nbformat_minor": 5
}
