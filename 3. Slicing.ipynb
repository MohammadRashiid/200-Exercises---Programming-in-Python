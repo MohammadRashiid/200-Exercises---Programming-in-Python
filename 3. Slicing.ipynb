{
 "cells": [
  {
   "cell_type": "markdown",
   "id": "40fb5842",
   "metadata": {},
   "source": [
    "**Exercise 1 From the given file name:**\n",
    "\n",
    "\n",
    "\n",
    "filename = 'view.jpg'\n",
    "\n",
    "\n",
    "**extract extension and print it to the console.**\n",
    "\n",
    "\n",
    "\n",
    "Expected result:\n",
    "\n",
    "\n",
    "\n",
    "jpg\n"
   ]
  },
  {
   "cell_type": "code",
   "execution_count": 3,
   "id": "c6dc45f6",
   "metadata": {},
   "outputs": [
    {
     "data": {
      "text/plain": [
       "'jpg'"
      ]
     },
     "execution_count": 3,
     "metadata": {},
     "output_type": "execute_result"
    }
   ],
   "source": [
    "filename = \"view.jpg\"\n",
    "\n",
    "print(filename[-3:])"
   ]
  },
  {
   "cell_type": "markdown",
   "id": "f383cb19",
   "metadata": {},
   "source": [
    "**Exercise 2 From the following text:**\n",
    "\n",
    "\n",
    "\n",
    "string = 'PKV-89415-PLN'\n",
    "\n",
    "\n",
    "**extract the code containing the first three and last three characters. Print the result to the console.**\n",
    "\n",
    "\n",
    "\n",
    "Expected result:\n",
    "\n",
    "\n",
    "\n",
    "PKVPLN"
   ]
  },
  {
   "cell_type": "code",
   "execution_count": 5,
   "id": "3017b18e",
   "metadata": {},
   "outputs": [
    {
     "name": "stdout",
     "output_type": "stream",
     "text": [
      "PKVPLN\n"
     ]
    }
   ],
   "source": [
    "string = 'PKV-89415-PLN'\n",
    "\n",
    "print(string[:3]+string[-3:])"
   ]
  },
  {
   "cell_type": "markdown",
   "id": "3bf5a595",
   "metadata": {},
   "source": [
    "**Exercise 3 From the following text:**\n",
    "\n",
    "\n",
    "\n",
    "string = '1 0 0 1 0 1'\n",
    "\n",
    "\n",
    "**remove spaces using slicing. Then convert the result to decimal notation and print to the console as shown below.**\n",
    "\n",
    "\n",
    "\n",
    "Expected result:\n",
    "\n",
    "\n",
    "\n",
    "Number found: 37"
   ]
  },
  {
   "cell_type": "code",
   "execution_count": 9,
   "id": "b2b46655",
   "metadata": {},
   "outputs": [
    {
     "name": "stdout",
     "output_type": "stream",
     "text": [
      "Number found: 37\n"
     ]
    }
   ],
   "source": [
    "string = '1 0 0 1 0 1'\n",
    "binary = string[::2]\n",
    "#print(binary)\n",
    "number = int(binary,2)\n",
    "#print(number)\n",
    "print(f\"Number found: {number}\")"
   ]
  },
  {
   "cell_type": "markdown",
   "id": "8f9275b8",
   "metadata": {},
   "source": [
    "**Exercise 4 Using the slicing, reverse the order of the characters in the following text:**\n",
    "\n",
    "text = 'Python Course'\n",
    "\n",
    "**Print the result to the console as shown below.**\n",
    "\n",
    "Expected result:\n",
    "\n",
    "esruoC nohtyP"
   ]
  },
  {
   "cell_type": "code",
   "execution_count": 10,
   "id": "62d005e1",
   "metadata": {},
   "outputs": [
    {
     "name": "stdout",
     "output_type": "stream",
     "text": [
      "esruoC nohtyP\n"
     ]
    }
   ],
   "source": [
    "text = 'Python Course'\n",
    "\n",
    "print(text[::-1])"
   ]
  },
  {
   "cell_type": "code",
   "execution_count": null,
   "id": "4cf55cd8",
   "metadata": {},
   "outputs": [],
   "source": []
  }
 ],
 "metadata": {
  "kernelspec": {
   "display_name": "Python 3 (ipykernel)",
   "language": "python",
   "name": "python3"
  },
  "language_info": {
   "codemirror_mode": {
    "name": "ipython",
    "version": 3
   },
   "file_extension": ".py",
   "mimetype": "text/x-python",
   "name": "python",
   "nbconvert_exporter": "python",
   "pygments_lexer": "ipython3",
   "version": "3.9.12"
  }
 },
 "nbformat": 4,
 "nbformat_minor": 5
}
