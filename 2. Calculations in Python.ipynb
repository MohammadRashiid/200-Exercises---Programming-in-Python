{
 "cells": [
  {
   "cell_type": "markdown",
   "id": "62d1ddce",
   "metadata": {},
   "source": [
    "**Exercise 1 Write a program that calculates the area of a circle with a radius = 5. Use an approximate value of pi:**\n",
    "\n",
    "\n",
    "\n",
    "pi = 3.14\n",
    "\n",
    "\n",
    "Print the result to the console as shown below.\n",
    "\n",
    "\n",
    "\n",
    "Expected result:\n",
    "\n",
    "\n",
    "\n",
    "Area: 78.5"
   ]
  },
  {
   "cell_type": "code",
   "execution_count": 4,
   "id": "acf78a59",
   "metadata": {},
   "outputs": [
    {
     "name": "stdout",
     "output_type": "stream",
     "text": [
      "Area: 78.5\n"
     ]
    }
   ],
   "source": [
    "pi = 3.14\n",
    "r = 5\n",
    "area = pi * r ** 2\n",
    "print(f'Area: {area:.1f}')"
   ]
  },
  {
   "cell_type": "markdown",
   "id": "9c2f8020",
   "metadata": {},
   "source": [
    "**Exercise 2 Write a program that calculates the future value of 1000 USD with an annual interest rate of 3%, annual capitalization and a 5-year investment period. Round the result to the nearest cent.**\n",
    "\n",
    "\n",
    "\n",
    "**Tip: Use compound capitalization of interest.**\n",
    "\n",
    "\n",
    "\n",
    "**Print the result to the console as shown below.**\n",
    "\n",
    "\n",
    "\n",
    "**Expected result:**\n",
    "\n",
    "\n",
    "\n",
    "**The future value of the investment: 1159.27 USD**\n"
   ]
  },
  {
   "cell_type": "code",
   "execution_count": 7,
   "id": "6acb80cd",
   "metadata": {},
   "outputs": [
    {
     "name": "stdout",
     "output_type": "stream",
     "text": [
      "The future value of the investment: 1159.27 USD\n"
     ]
    }
   ],
   "source": [
    "pv = 1000\n",
    "i = 0.03\n",
    "n = 5\n",
    "\n",
    "fv = pv*(i+1)**n\n",
    "\n",
    "print(f'The future value of the investment: {fv:.2f} USD')"
   ]
  },
  {
   "cell_type": "markdown",
   "id": "fe34154f",
   "metadata": {},
   "source": [
    "**Exercise 3 Write a program that calculates the delta for the quadratic equation:**\n",
    "\n",
    "\n",
    "\n",
    "Print the result to the console as shown below.\n",
    "\n",
    "3x^2 - 4x +1 =0\n",
    "\n",
    "Expected result:\n",
    "\n",
    "\n",
    "\n",
    "Delta: 4"
   ]
  },
  {
   "cell_type": "code",
   "execution_count": 9,
   "id": "95108e81",
   "metadata": {},
   "outputs": [
    {
     "name": "stdout",
     "output_type": "stream",
     "text": [
      "Delta: 4\n"
     ]
    }
   ],
   "source": [
    "a= 3\n",
    "b=4\n",
    "c=1\n",
    "\n",
    "delta = b**2-4*a*c\n",
    "\n",
    "print(f'Delta: {delta}')"
   ]
  },
  {
   "cell_type": "markdown",
   "id": "f37f810c",
   "metadata": {},
   "source": [
    "**Exercise 4 The arithmetic sequence is given with the following formula:**\n",
    "\n",
    "a suffix n = 10+4n\n",
    "\n",
    "**Calculate the sum of the first ten elements of this sequence. Print the result to the console as shown below.**\n",
    "\n",
    "\n",
    "\n",
    "**Expected result:**\n",
    "\n",
    "\n",
    "\n",
    "**The sum of the first 10 elements in a sequence: 320.0**"
   ]
  },
  {
   "cell_type": "code",
   "execution_count": 11,
   "id": "a307bd85",
   "metadata": {},
   "outputs": [
    {
     "name": "stdout",
     "output_type": "stream",
     "text": [
      "The sum of the first 10 elements in a sequence: 320.0\n"
     ]
    }
   ],
   "source": [
    "a1 = 14\n",
    "a10 = 50\n",
    "n = 10\n",
    "s10 = ((a1+a10)/2)*n\n",
    "\n",
    "print(f'The sum of the first 10 elements in a sequence: {s10}')"
   ]
  },
  {
   "cell_type": "markdown",
   "id": "05451fd7",
   "metadata": {},
   "source": [
    "**Exercise 5 The geometric sequence is given with the following formula:**\n",
    "\n",
    "a suffix n = 8 * 2 ^ n-1\n",
    "\n",
    "**Calculate the sum of the first six elements of this sequence. Print the result to the console as shown below.**\n",
    "\n",
    "\n",
    "\n",
    "Expected result:\n",
    "\n",
    "\n",
    "\n",
    "The sum of the first 6 elements of the sequence is: 504.0\n"
   ]
  },
  {
   "cell_type": "code",
   "execution_count": 13,
   "id": "ab476003",
   "metadata": {
    "scrolled": true
   },
   "outputs": [
    {
     "name": "stdout",
     "output_type": "stream",
     "text": [
      "The sum of the first 6 elements of the sequence is: 504.0\n"
     ]
    }
   ],
   "source": [
    "a1 = 8\n",
    "a2 = 8 * 2\n",
    "n = 6\n",
    "q = a2/a1\n",
    "\n",
    "s6 = a1 * ((1-q **n)/(1-q))\n",
    "print(f'The sum of the first 6 elements of the sequence is: {s6}')"
   ]
  },
  {
   "cell_type": "markdown",
   "id": "1271a29e",
   "metadata": {},
   "source": [
    "**Exercise 6 The quadratic equation is given with the following formula:**\n",
    "\n",
    "x^2 + 5x + 4 = 0\n",
    "\n",
    "**Using Vieta's formulas calculate the sum and product of the roots of this quadratic equation. Print the result to the console as shown below.**\n",
    "\n",
    "\n",
    "\n",
    "**Expected result:**\n",
    "\n",
    "\n",
    "\n",
    "x1 + x2 = -5.0\n",
    "x1x2 = 4.0"
   ]
  },
  {
   "cell_type": "code",
   "execution_count": 17,
   "id": "62d5e495",
   "metadata": {},
   "outputs": [
    {
     "name": "stdout",
     "output_type": "stream",
     "text": [
      "x1 + x2 = -5.0\n",
      "x1x2 = 4.0\n"
     ]
    }
   ],
   "source": [
    "a = 1\n",
    "b = 5\n",
    "c = 4\n",
    "sum = -b / a\n",
    "product = c / a\n",
    "print(f'x1 + x2 = {sum}\\nx1x2 = {product}')"
   ]
  },
  {
   "cell_type": "markdown",
   "id": "78e2863b",
   "metadata": {},
   "source": [
    "**Exercise 7 Calculate the midpoint of the segment with ends at the points: A = (2, 4), B = (-4, 6) and print result to the console as shown below.**\n",
    "\n",
    "\n",
    "\n",
    "**Expected result:**\n",
    "\n",
    "\n",
    "\n",
    "The middle point: (-1.0, 5.0)"
   ]
  },
  {
   "cell_type": "code",
   "execution_count": 20,
   "id": "50339a14",
   "metadata": {},
   "outputs": [
    {
     "name": "stdout",
     "output_type": "stream",
     "text": [
      "The middle point: (-1.0, 5.0)\n"
     ]
    }
   ],
   "source": [
    "x1,x2=2,-4\n",
    "y1,y2=4,6\n",
    "\n",
    "x = (x1+x2)/2\n",
    "y = (y1+y2)/2\n",
    "\n",
    "print(f'The middle point: {float(x), float(y)}')"
   ]
  },
  {
   "cell_type": "markdown",
   "id": "8d36445b",
   "metadata": {},
   "source": [
    "**Exercise 8 Calculate the distance of two points A = (3, 2), B = (- 1, -1) and print result to the console as shown below.**\n",
    "\n",
    "\n",
    "\n",
    "Expected result:\n",
    "\n",
    "\n",
    "\n",
    "The distance between points A and B: 5.0\n"
   ]
  },
  {
   "cell_type": "code",
   "execution_count": 22,
   "id": "6c82eed5",
   "metadata": {},
   "outputs": [
    {
     "name": "stdout",
     "output_type": "stream",
     "text": [
      "The distance between points A and B: 5.0\n"
     ]
    }
   ],
   "source": [
    "#√((x2 – x1)² + (y2 – y1)²)\n",
    "\n",
    "x1 = 3\n",
    "x2 = -1\n",
    "y1 = 2\n",
    "y2 = -1\n",
    "\n",
    "d = ((x2 - x1)**2 + (y2-y1)**2)**(1/2)\n",
    "\n",
    "print(f'The distance between points A and B: {d}')"
   ]
  },
  {
   "cell_type": "markdown",
   "id": "c3682bca",
   "metadata": {},
   "source": [
    "**Exercise 9\n",
    "Find the roots of the quadratic equation:**\n",
    "\n",
    "x^2 +5x +4 = 0\n",
    "\n",
    "**Print the result to the console as shown below.**\n",
    "\n",
    "\n",
    "\n",
    "Expected result:\n",
    "\n",
    "\n",
    "\n",
    "x1 = -4.0\n",
    "x2 = -1.0"
   ]
  },
  {
   "cell_type": "code",
   "execution_count": 23,
   "id": "4302b717",
   "metadata": {},
   "outputs": [
    {
     "name": "stdout",
     "output_type": "stream",
     "text": [
      "x1 = -4.0\n",
      "x2 = -1.0\n"
     ]
    }
   ],
   "source": [
    "#x = (-b ± √ (b2 - 4ac) )/2a\n",
    "\n",
    "#copied_solution \n",
    "\n",
    "a = 1\n",
    "b = 5\n",
    "c = 4\n",
    "delta = b ** 2 - 4 * a * c\n",
    "delta_sqrt = delta ** (1/2)\n",
    "x1 = (-b - delta_sqrt) / (2 * a)\n",
    "x2 = (-b + delta_sqrt) / (2 * a)\n",
    "print(f'x1 = {x1}')\n",
    "print(f'x2 = {x2}')"
   ]
  },
  {
   "cell_type": "markdown",
   "id": "9188cd7a",
   "metadata": {},
   "source": [
    "**Exercise 10 Calculate the geometric mean of the following numbers: 4, 3, 4.5, 5 and print result to the console as shown below.**\n",
    "\n",
    "\n",
    "\n",
    "Expected result:\n",
    "\n",
    "\n",
    "\n",
    "Geometric average of the given numbers: 4.05\n"
   ]
  },
  {
   "cell_type": "code",
   "execution_count": 27,
   "id": "b8b1015a",
   "metadata": {},
   "outputs": [
    {
     "name": "stdout",
     "output_type": "stream",
     "text": [
      "Geometric average of the given numbers: 4.05\n"
     ]
    }
   ],
   "source": [
    "a,b,c,d = 4,3,4.5,5\n",
    "\n",
    "m = (a*b*c*d)**(1/4)\n",
    "\n",
    "print(f'Geometric average of the given numbers: {m:.2f}')"
   ]
  },
  {
   "cell_type": "markdown",
   "id": "4813c47f",
   "metadata": {},
   "source": [
    "**Exercise 11 An infinite geometric sequence is given with the following formula:\n",
    "1,1/2,1/4,1/8,...**\n",
    "\n",
    "\n",
    "Calculate the sum of this sequence. Print the result to the console as shown below.\n",
    "\n",
    "Expected result:\n",
    "\n",
    "\n",
    "\n",
    "The sum of the sequence: 2.0"
   ]
  },
  {
   "cell_type": "code",
   "execution_count": 28,
   "id": "cac4a8ec",
   "metadata": {},
   "outputs": [
    {
     "name": "stdout",
     "output_type": "stream",
     "text": [
      "The sum of the sequence: 2.0\n"
     ]
    }
   ],
   "source": [
    "#copied\n",
    "a1 = 1\n",
    "a2 = 1/2\n",
    "q = a2 / a1\n",
    "S = a1 / (1 - q)\n",
    "print(f'The sum of the sequence: {S}')"
   ]
  },
  {
   "attachments": {
    "population_standard_deviation.svg": {
     "image/svg+xml": [
      "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"
     ]
    }
   },
   "cell_type": "markdown",
   "id": "decf9397",
   "metadata": {},
   "source": [
    "**Exercise 12 Calculate the standard deviation (biased) of the following set of data: 10, 11, 9.**\n",
    "\n",
    "Print the result to the console as shown below.\n",
    "\n",
    "\n",
    "\n",
    "Expected result:\n",
    "\n",
    "\n",
    "\n",
    "The standard deviation: 0.82\n",
    "\n",
    "![population_standard_deviation.svg](attachment:population_standard_deviation.svg)"
   ]
  },
  {
   "cell_type": "code",
   "execution_count": 29,
   "id": "c34927c3",
   "metadata": {},
   "outputs": [
    {
     "name": "stdout",
     "output_type": "stream",
     "text": [
      "The standard deviation: 0.82\n"
     ]
    }
   ],
   "source": [
    "#copied\n",
    "x1, x2, x3 = 10, 11, 9\n",
    "mean = (x1 + x2 + x3) / 3.0\n",
    "var = ((x1 - mean)**2 + (x2 - mean)**2 + (x3 - mean)**2) / 3.0\n",
    "std = var**(1/2)\n",
    "print(f'The standard deviation: {std:.2f}')"
   ]
  },
  {
   "cell_type": "code",
   "execution_count": null,
   "id": "64a8458e",
   "metadata": {},
   "outputs": [],
   "source": []
  }
 ],
 "metadata": {
  "kernelspec": {
   "display_name": "Python 3 (ipykernel)",
   "language": "python",
   "name": "python3"
  },
  "language_info": {
   "codemirror_mode": {
    "name": "ipython",
    "version": 3
   },
   "file_extension": ".py",
   "mimetype": "text/x-python",
   "name": "python",
   "nbconvert_exporter": "python",
   "pygments_lexer": "ipython3",
   "version": "3.9.12"
  }
 },
 "nbformat": 4,
 "nbformat_minor": 5
}
