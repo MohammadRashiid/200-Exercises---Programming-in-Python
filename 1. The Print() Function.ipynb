{
 "cells": [
  {
   "cell_type": "markdown",
   "id": "40354937",
   "metadata": {},
   "source": [
    "**Exercise 1 - \n",
    "Using the print() function, print to the console: 'Learn Python!'**"
   ]
  },
  {
   "cell_type": "code",
   "execution_count": 1,
   "id": "5bbb4ec9",
   "metadata": {},
   "outputs": [
    {
     "name": "stdout",
     "output_type": "stream",
     "text": [
      "Learn Python!\n"
     ]
    }
   ],
   "source": [
    "print('Learn Python!')"
   ]
  },
  {
   "cell_type": "markdown",
   "id": "ea5aa393",
   "metadata": {},
   "source": [
    "**Exercise 2\n",
    "Assign to the variable age number 20. Using the age variable and the print() function print to the console the following text:**\n",
    "\n",
    "\n",
    "I am 20 years old."
   ]
  },
  {
   "cell_type": "code",
   "execution_count": 2,
   "id": "cb975928",
   "metadata": {},
   "outputs": [
    {
     "name": "stdout",
     "output_type": "stream",
     "text": [
      "I am 20 years old.\n"
     ]
    }
   ],
   "source": [
    "age = 20\n",
    "\n",
    "print(f'I am {age} years old.')"
   ]
  },
  {
   "cell_type": "markdown",
   "id": "64786eef",
   "metadata": {},
   "source": [
    "**Exercise 3\n",
    "Create two variables (you can freely choose the names) and assign to them following values:**\n",
    "\n",
    "'Python'\n",
    "\n",
    "'3.8'\n",
    "\n",
    "Using these variables and the print() function, print to the console the following text:\n",
    "\n",
    "\n",
    "\n",
    "I am learning Python version 3.8"
   ]
  },
  {
   "cell_type": "code",
   "execution_count": 3,
   "id": "6fab6e68",
   "metadata": {},
   "outputs": [
    {
     "name": "stdout",
     "output_type": "stream",
     "text": [
      "I am learning Python version 3.8\n"
     ]
    }
   ],
   "source": [
    "language = 'Python'\n",
    "version = 3.8\n",
    "print(f'I am learning {language} version {version}')"
   ]
  },
  {
   "cell_type": "markdown",
   "id": "c224ff44",
   "metadata": {},
   "source": [
    "**Exercise 4\n",
    "Assign 199.99 to the price variable and check the solution.**\n",
    "\n",
    "\n",
    "\n",
    "**Expected result:**\n",
    "\n",
    "\n",
    "\n",
    "This costs 199.99"
   ]
  },
  {
   "cell_type": "code",
   "execution_count": 4,
   "id": "292d0426",
   "metadata": {},
   "outputs": [
    {
     "name": "stdout",
     "output_type": "stream",
     "text": [
      "This costs 199.99\n"
     ]
    }
   ],
   "source": [
    "price = 199.99\n",
    "print(f'This costs {price}')"
   ]
  },
  {
   "cell_type": "code",
   "execution_count": 5,
   "id": "7c445904",
   "metadata": {},
   "outputs": [
    {
     "name": "stdout",
     "output_type": "stream",
     "text": [
      "This costs 199.99\n"
     ]
    }
   ],
   "source": [
    "price = 199.99\n",
    "print('This costs', price)"
   ]
  },
  {
   "cell_type": "markdown",
   "id": "b15c8261",
   "metadata": {},
   "source": [
    "**Exercise 5\n",
    "Assign 69.99 to the price variable and check the solution.**\n",
    "\n",
    "\n",
    "\n",
    "**Expected result:**\n",
    "\n",
    "\n",
    "\n",
    "This costs 69.99"
   ]
  },
  {
   "cell_type": "code",
   "execution_count": 6,
   "id": "612f05dd",
   "metadata": {},
   "outputs": [
    {
     "name": "stdout",
     "output_type": "stream",
     "text": [
      "This costs 69.99\n"
     ]
    }
   ],
   "source": [
    "price = 69.99\n",
    "print('This costs',price)"
   ]
  },
  {
   "cell_type": "markdown",
   "id": "942190b5",
   "metadata": {},
   "source": [
    "**Exercise 6\n",
    "Assign two variables that store the following values:**\n",
    "\n",
    "$ 34.99 - product price (float)\n",
    "\n",
    "20 lbs - product weight (int)\n",
    "\n",
    "\n",
    "\n",
    "Using the f-string formatting style print to the console the following message:\n",
    "\n",
    "\n",
    "\n",
    "Price: $34.99. Weight: 20 lbs."
   ]
  },
  {
   "cell_type": "code",
   "execution_count": 11,
   "id": "55383189",
   "metadata": {},
   "outputs": [
    {
     "name": "stdout",
     "output_type": "stream",
     "text": [
      "Price: $34.99. Weight: 20 lbs.\n"
     ]
    }
   ],
   "source": [
    "price = 34.99\n",
    "weight = 20\n",
    "\n",
    "print(f'Price: ${price}. Weight: {weight} lbs.')"
   ]
  },
  {
   "cell_type": "markdown",
   "id": "896eb897",
   "metadata": {},
   "source": [
    "**Exercise 7 Below is an approximation of pi:**\n",
    "\n",
    "**pi = 3.1415926535**\n",
    "\n",
    "**Using f-string formatting, print the approximation of pi to two decimal places as shown below.**\n",
    "\n",
    "\n",
    "\n",
    "**Expected result:**\n",
    "\n",
    "\n",
    "\n",
    "Pi: 3.14"
   ]
  },
  {
   "cell_type": "code",
   "execution_count": 13,
   "id": "1390d923",
   "metadata": {},
   "outputs": [
    {
     "name": "stdout",
     "output_type": "stream",
     "text": [
      "Pi: 3.14\n"
     ]
    }
   ],
   "source": [
    "pi = 3.1415926535\n",
    "\n",
    "print(f'Pi: {round(pi,2)}')"
   ]
  },
  {
   "cell_type": "code",
   "execution_count": 14,
   "id": "331e2eb0",
   "metadata": {},
   "outputs": [
    {
     "name": "stdout",
     "output_type": "stream",
     "text": [
      "Pi: 3.14\n"
     ]
    }
   ],
   "source": [
    "pi = 3.1415926535\n",
    "\n",
    "print(f'Pi: {pi:.2f}')"
   ]
  },
  {
   "cell_type": "markdown",
   "id": "f2d3d80e",
   "metadata": {},
   "source": [
    "**Exercise 8 Using three print() function (one line - one function) print the following text:**\n",
    "\n",
    "\n",
    "\n",
    "----------------------------------------\n",
    "VERSION: 1.0.1\n",
    "----------------------------------------\n",
    "\n",
    "Tip: The lines consist of 40 dash characters: '-'.\n",
    "\n"
   ]
  },
  {
   "cell_type": "code",
   "execution_count": 15,
   "id": "b75c1f95",
   "metadata": {},
   "outputs": [
    {
     "name": "stdout",
     "output_type": "stream",
     "text": [
      "----------------------------------------\n",
      "VERSION: 1.0.1\n",
      "----------------------------------------\n"
     ]
    }
   ],
   "source": [
    "print('-'*40)\n",
    "print('VERSION: 1.0.1')\n",
    "print('-'*40)\n"
   ]
  },
  {
   "cell_type": "markdown",
   "id": "356c9439",
   "metadata": {},
   "source": [
    "**Exercise 9 Using the four print() function (one line - one function) print the following text:**\n",
    "\n",
    "\n",
    "\n",
    "========================================\n",
    "author: johnsmith@sample.com\n",
    "date: 01-01-2021\n",
    "========================================\n",
    "\n",
    "\n",
    "**Tip: The lines consist of 40 equal signs: '='.**"
   ]
  },
  {
   "cell_type": "code",
   "execution_count": 16,
   "id": "a8186563",
   "metadata": {},
   "outputs": [
    {
     "name": "stdout",
     "output_type": "stream",
     "text": [
      "========================================\n",
      "author: johnsmith@sample.com\n",
      "date: 01-01-2021\n",
      "========================================\n"
     ]
    }
   ],
   "source": [
    "print(\"=\"*40)\n",
    "print(\"author: johnsmith@sample.com\")\n",
    "print(\"date: 01-01-2021\")\n",
    "print(\"=\"*40)"
   ]
  },
  {
   "cell_type": "markdown",
   "id": "5eb4c3c5",
   "metadata": {},
   "source": [
    "**Exercise 10 Using the print() function and the sep argument set to '#' print the following text:**\n",
    "\n",
    "\n",
    "\n",
    "**'summer#time#holiday'**"
   ]
  },
  {
   "cell_type": "code",
   "execution_count": 17,
   "id": "bc5c2c36",
   "metadata": {},
   "outputs": [
    {
     "name": "stdout",
     "output_type": "stream",
     "text": [
      "summer#time#holiday\n"
     ]
    }
   ],
   "source": [
    "print('summer','time','holiday',sep='#')"
   ]
  },
  {
   "cell_type": "code",
   "execution_count": null,
   "id": "726f9712",
   "metadata": {},
   "outputs": [],
   "source": []
  }
 ],
 "metadata": {
  "kernelspec": {
   "display_name": "Python 3 (ipykernel)",
   "language": "python",
   "name": "python3"
  },
  "language_info": {
   "codemirror_mode": {
    "name": "ipython",
    "version": 3
   },
   "file_extension": ".py",
   "mimetype": "text/x-python",
   "name": "python",
   "nbconvert_exporter": "python",
   "pygments_lexer": "ipython3",
   "version": "3.9.12"
  }
 },
 "nbformat": 4,
 "nbformat_minor": 5
}
