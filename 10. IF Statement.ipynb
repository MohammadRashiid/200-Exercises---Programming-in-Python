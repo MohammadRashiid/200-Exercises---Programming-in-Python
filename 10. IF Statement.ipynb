{
 "cells": [
  {
   "cell_type": "markdown",
   "id": "45d2df67",
   "metadata": {},
   "source": [
    "**Exercise 1 The following filename is given:**\n",
    "\n",
    "filename = '01012020_sales.xlsx'\n",
    "\n",
    "Check if the file has the 'xlsx' extension. Print to the console 'YES' if true, 'NO' if false.\n",
    "\n",
    "Expected result:\n",
    "\n",
    "YES\n"
   ]
  },
  {
   "cell_type": "code",
   "execution_count": 1,
   "id": "402920b6",
   "metadata": {},
   "outputs": [
    {
     "name": "stdout",
     "output_type": "stream",
     "text": [
      "YES\n"
     ]
    }
   ],
   "source": [
    "filename = '01012020_sales.xlsx'\n",
    "\n",
    "if 'xlsx' in filename:\n",
    "    print('YES')\n",
    "else:\n",
    "    print('NO')"
   ]
  },
  {
   "cell_type": "markdown",
   "id": "4074359e",
   "metadata": {},
   "source": [
    "**Exercise 2 The following code is given:**\n",
    "\n",
    "code = 'DSVNDOICSN'\n",
    "\n",
    "Check if the code variable has only uppercase letters. If so, print 'YES' to the console.\n",
    "\n",
    "Expected result:\n",
    "\n",
    "YES\n"
   ]
  },
  {
   "cell_type": "code",
   "execution_count": 2,
   "id": "f662e4f8",
   "metadata": {},
   "outputs": [
    {
     "name": "stdout",
     "output_type": "stream",
     "text": [
      "YES\n"
     ]
    }
   ],
   "source": [
    "code = 'DSVNDOICSN'\n",
    "\n",
    "if code.isupper():\n",
    "    print('YES')"
   ]
  },
  {
   "cell_type": "markdown",
   "id": "d2dc013f",
   "metadata": {},
   "source": [
    "**Exercise 3 The following variable is given:**\n",
    "\n",
    "number = 1.0\n",
    "\n",
    "Test whether the variable is an instance of the built-in class int. Print 'YES' if true, 'NO' if false.\n",
    "\n",
    "Expected result:\n",
    "\n",
    "\n",
    "\n",
    "NO"
   ]
  },
  {
   "cell_type": "code",
   "execution_count": 4,
   "id": "311ed49a",
   "metadata": {},
   "outputs": [
    {
     "name": "stdout",
     "output_type": "stream",
     "text": [
      "NO\n"
     ]
    }
   ],
   "source": [
    "number = 1.0\n",
    "\n",
    "if isinstance(number,int):\n",
    "    print(\"YES\")\n",
    "else:\n",
    "    print(\"NO\")"
   ]
  },
  {
   "cell_type": "markdown",
   "id": "d202a0b2",
   "metadata": {},
   "source": [
    "**Exercise 4 The following password is given:**\n",
    "\n",
    "password = 'cskdnjcasa#!'\n",
    "\n",
    "Check if the password has 11 characters.\n",
    "\n",
    "If so, print 'Password correct', otherwise 'Password too short'.\n",
    "\n",
    "Expected result:\n",
    "\n",
    "Password correct\n"
   ]
  },
  {
   "cell_type": "code",
   "execution_count": 6,
   "id": "ce7c7008",
   "metadata": {},
   "outputs": [
    {
     "name": "stdout",
     "output_type": "stream",
     "text": [
      "Password correct\n"
     ]
    }
   ],
   "source": [
    "password = 'cskdnjcasa#!'\n",
    "\n",
    "if len(password)>=11:\n",
    "    print(\"Password correct\")\n",
    "else:\n",
    "    print(\"Password too short\")"
   ]
  },
  {
   "cell_type": "markdown",
   "id": "8ebfc9c3",
   "metadata": {},
   "source": [
    "**Exercise 5 The following password is given:**\n",
    "\n",
    "password = 'cskdnjcasa#!'\n",
    "\n",
    "Check if the password has at least 11 characters and contains the special character '!'.\n",
    "\n",
    "If so, print 'Password correct', otherwise 'Password incorrect'."
   ]
  },
  {
   "cell_type": "code",
   "execution_count": 8,
   "id": "ced2face",
   "metadata": {},
   "outputs": [
    {
     "name": "stdout",
     "output_type": "stream",
     "text": [
      "Password correct\n"
     ]
    }
   ],
   "source": [
    "password = 'cskdnjcasa#!'\n",
    "\n",
    "if len(password)>=11 and '!' in password:\n",
    "    print(\"Password correct\")\n",
    "else:\n",
    "    print(\"Password incorrect\")"
   ]
  },
  {
   "cell_type": "markdown",
   "id": "7f95d885",
   "metadata": {},
   "source": [
    "**Exercise 6 The following list is given:**\n",
    "\n",
    "project_ids = ['02134', '24253']\n",
    "\n",
    "Check if the following project id:\n",
    "\n",
    "project_id = '02135'\n",
    "\n",
    "is in the project_ids list. If not, add this project_id to the list and print this list to the console.\n",
    "\n",
    "Expected result:\n",
    "\n",
    "['02134', '24253', '02135']\n"
   ]
  },
  {
   "cell_type": "code",
   "execution_count": 19,
   "id": "9f9a1e37",
   "metadata": {},
   "outputs": [
    {
     "name": "stdout",
     "output_type": "stream",
     "text": [
      "['02134', '24253', '02135']\n"
     ]
    }
   ],
   "source": [
    "project_ids = ['02134', '24253']\n",
    "project_id = '02135'\n",
    "if project_id in project_ids:\n",
    "    print(\"Yes, Present in the list.\")\n",
    "else:\n",
    "    project_ids.append(project_id)\n",
    "print(project_ids)"
   ]
  },
  {
   "cell_type": "code",
   "execution_count": 18,
   "id": "cf1acd16",
   "metadata": {},
   "outputs": [
    {
     "name": "stdout",
     "output_type": "stream",
     "text": [
      "['02134', '24253', '02135']\n"
     ]
    }
   ],
   "source": [
    "project_ids = ['02134', '24253']\n",
    "project_id = '02135'\n",
    "if not project_id in project_ids:\n",
    "    project_ids.append(project_id)\n",
    "print(project_ids)"
   ]
  },
  {
   "cell_type": "markdown",
   "id": "88a04618",
   "metadata": {},
   "source": [
    "**Exercise 7 The following dictionary is given:**\n",
    "\n",
    "project_ids = {\n",
    "    '01': 'open', \n",
    "    '02': 'new',\n",
    "    '03': 'in progress',\n",
    "    '04': 'completed'\n",
    "}\n",
    "\n",
    "Using the conditional statement, check if the project status with id = '02' is set to 'new'. If so, change its status to 'open' and print the dictionary to the console.\n",
    "\n",
    "Expected result:\n",
    "\n",
    "{'01': 'open', '02': 'open', '03': 'in progress', '04': 'completed'}"
   ]
  },
  {
   "cell_type": "code",
   "execution_count": 17,
   "id": "049c9a78",
   "metadata": {},
   "outputs": [
    {
     "name": "stdout",
     "output_type": "stream",
     "text": [
      "{'01': 'open', '02': 'open', '03': 'in progress', '04': 'completed'}\n"
     ]
    }
   ],
   "source": [
    "project_ids = { '01': 'open', '02': 'new', '03': 'in progress', '04': 'completed' }\n",
    "\n",
    "if project_ids['02']=='new':\n",
    "    project_ids['02']='open'\n",
    "print(project_ids)"
   ]
  },
  {
   "cell_type": "markdown",
   "id": "dbc6886a",
   "metadata": {},
   "source": [
    "**Exercise 8 Write a program that checks if the given item:**\n",
    "\n",
    "item = '001'\n",
    "\n",
    "is in the list:\n",
    "\n",
    "items = ['001', '000', '003', '005', '006']\n",
    "\n",
    "If so, remove this item from the list and print this list to the console.\n",
    "\n",
    "Expected result:\n",
    "\n",
    "['000', '003', '005', '006']\n"
   ]
  },
  {
   "cell_type": "code",
   "execution_count": 16,
   "id": "58003f4e",
   "metadata": {},
   "outputs": [
    {
     "name": "stdout",
     "output_type": "stream",
     "text": [
      "['000', '003', '005', '006']\n"
     ]
    }
   ],
   "source": [
    "items = ['001', '000', '003', '005', '006']\n",
    "\n",
    "item = '001'\n",
    "\n",
    "if item in items:\n",
    "    items.remove(item)\n",
    "print(items)"
   ]
  },
  {
   "cell_type": "markdown",
   "id": "ef06f0a3",
   "metadata": {},
   "source": []
  }
 ],
 "metadata": {
  "kernelspec": {
   "display_name": "Python 3 (ipykernel)",
   "language": "python",
   "name": "python3"
  },
  "language_info": {
   "codemirror_mode": {
    "name": "ipython",
    "version": 3
   },
   "file_extension": ".py",
   "mimetype": "text/x-python",
   "name": "python",
   "nbconvert_exporter": "python",
   "pygments_lexer": "ipython3",
   "version": "3.9.12"
  }
 },
 "nbformat": 4,
 "nbformat_minor": 5
}
