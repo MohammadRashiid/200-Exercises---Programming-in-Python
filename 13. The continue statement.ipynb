{
 "cells": [
  {
   "cell_type": "markdown",
   "id": "a2fe5ff8",
   "metadata": {},
   "source": [
    "**Exercise 1 The list of companies from the WIG.GAMES index is given with the closing price and currency:**\n",
    "\n",
    "gaming = {\n",
    "    '11B': [362.5, 'PLN'],\n",
    "    'CDR': [74.25, 'USD'],\n",
    "    'CIG': [0.85, 'PLN'],\n",
    "    'PLW': [79.5, 'USD'],\n",
    "    'TEN': [300.0, 'PLN']\n",
    "}\n",
    "\n",
    "Using the continue statement, create a for loop that will change the closing price from USD to PLN in this dictionary. Take USDPLN = 4.0.\n",
    "\n",
    "In response, print the gaming dictionary to the console.\n",
    "\n",
    "Expected result:\n",
    "\n",
    "{'11B': [362.5, 'PLN'], 'CDR': [297.0, 'PLN'], 'CIG': [0.85, 'PLN'], 'PLW': [318.0, 'PLN'], 'TEN': [300.0, 'PLN']}"
   ]
  },
  {
   "cell_type": "code",
   "execution_count": 4,
   "id": "50d4513f",
   "metadata": {},
   "outputs": [
    {
     "name": "stdout",
     "output_type": "stream",
     "text": [
      "{'11B': [362.5, 'PLN'], 'CDR': [297.0, 'PLN'], 'CIG': [0.85, 'PLN'], 'PLW': [318.0, 'PLN'], 'TEN': [300.0, 'PLN']}\n"
     ]
    }
   ],
   "source": [
    "gaming = { '11B': [362.5, 'PLN'], 'CDR': [74.25, 'USD'], 'CIG': [0.85, 'PLN'], 'PLW': [79.5, 'USD'], 'TEN': [300.0, 'PLN'] }\n",
    "\n",
    "USDPLN = 4.0\n",
    "\n",
    "for k,v in gaming.items():\n",
    "    if v[1]=='PLN':\n",
    "        continue\n",
    "    v[0]*=USDPLN\n",
    "    v[1]='PLN'\n",
    "print(gaming)"
   ]
  },
  {
   "cell_type": "markdown",
   "id": "7be77c21",
   "metadata": {},
   "source": [
    "**Exercise 2 The list of names is given (one is missing):**\n",
    "\n",
    "names = ['Jack', 'Leon', 'Alice', None, 'Bob']\n",
    "\n",
    "Using the continue statement, print only the correct names to the console as shown below.\n",
    "\n",
    "Expected result:\n",
    "\n",
    "Jack\n",
    "Leon\n",
    "Alice\n",
    "Bob"
   ]
  },
  {
   "cell_type": "code",
   "execution_count": 6,
   "id": "55b1b0fb",
   "metadata": {},
   "outputs": [
    {
     "name": "stdout",
     "output_type": "stream",
     "text": [
      "Jack\n",
      "Leon\n",
      "Alice\n",
      "Bob\n"
     ]
    }
   ],
   "source": [
    "names = ['Jack', 'Leon', 'Alice', None, 'Bob']\n",
    "\n",
    "for name in names:\n",
    "    if name is None:\n",
    "        continue\n",
    "    print(name)"
   ]
  },
  {
   "cell_type": "code",
   "execution_count": 7,
   "id": "e975bcc0",
   "metadata": {},
   "outputs": [
    {
     "name": "stdout",
     "output_type": "stream",
     "text": [
      "Jack\n",
      "Leon\n",
      "Alice\n",
      "Bob\n"
     ]
    }
   ],
   "source": [
    "names = ['Jack', 'Leon', 'Alice', None, 'Bob']\n",
    "\n",
    "for name in names:\n",
    "    if not isinstance(name,str):\n",
    "        continue\n",
    "    print(name)"
   ]
  },
  {
   "cell_type": "code",
   "execution_count": null,
   "id": "91658693",
   "metadata": {},
   "outputs": [],
   "source": []
  }
 ],
 "metadata": {
  "kernelspec": {
   "display_name": "Python 3 (ipykernel)",
   "language": "python",
   "name": "python3"
  },
  "language_info": {
   "codemirror_mode": {
    "name": "ipython",
    "version": 3
   },
   "file_extension": ".py",
   "mimetype": "text/x-python",
   "name": "python",
   "nbconvert_exporter": "python",
   "pygments_lexer": "ipython3",
   "version": "3.9.12"
  }
 },
 "nbformat": 4,
 "nbformat_minor": 5
}
