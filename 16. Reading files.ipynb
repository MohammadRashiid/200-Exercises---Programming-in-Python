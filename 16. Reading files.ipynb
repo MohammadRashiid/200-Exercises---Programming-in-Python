{
 "cells": [
  {
   "cell_type": "markdown",
   "id": "e153e8eb",
   "metadata": {},
   "source": [
    "**Exercise 1 Write a program that reads playway.txt file containing Playway stock data, and then calculates the average closing price (3-day average).**\n",
    "\n",
    "Print the result to the console as shown below.\n",
    "\n",
    "Expected result:\n",
    "\n",
    "3-day average closing price: xxx.xx"
   ]
  },
  {
   "cell_type": "code",
   "execution_count": 4,
   "id": "5bccb913",
   "metadata": {},
   "outputs": [
    {
     "name": "stdout",
     "output_type": "stream",
     "text": [
      "3-day average closing price: 313.67\n"
     ]
    }
   ],
   "source": [
    "with open('playway.txt', 'r') as file:\n",
    "     lines = file.read().splitlines()\n",
    " \n",
    "close = []\n",
    "for idx, line in enumerate(lines):\n",
    "    if idx > 0:\n",
    "        close.append(int(line.split(',')[-2]))\n",
    " \n",
    "close_avg = sum(close) / len(close)\n",
    "print(f'3-day average closing price: {close_avg:.2f}')"
   ]
  },
  {
   "cell_type": "markdown",
   "id": "7c1fcb4a",
   "metadata": {},
   "source": [
    "**Exercise 2 Read the currencies.txt file. Each line has a different currency pair. Create a list with the names of currency pairs containing the 'USD' symbol.**\n",
    "\n",
    "Expected result:\n",
    "\n",
    "['ARSUSD', 'AUDUSD']\n",
    "\n",
    "\n"
   ]
  },
  {
   "cell_type": "code",
   "execution_count": 15,
   "id": "af0d2899",
   "metadata": {},
   "outputs": [
    {
     "name": "stdout",
     "output_type": "stream",
     "text": [
      "['ARSUSD', 'AUDUSD']\n"
     ]
    }
   ],
   "source": [
    "with open('currencies.txt','r') as file:\n",
    "    lines = file.read().splitlines()\n",
    "    \n",
    "indexes = [line for line in lines if 'USD' in line]\n",
    "print(indexes)"
   ]
  },
  {
   "cell_type": "markdown",
   "id": "e4f0fbd3",
   "metadata": {},
   "source": [
    "**Exercise 3 The playway.csv file contains Playway's listing for March 2020. This file was loaded as follows to the content variable:**\n",
    "\n",
    "with open('playway.csv', 'r') as file:\n",
    "    content = file.read().splitlines()\n",
    "\n",
    "content:\n",
    "\n",
    "['Date,Open,High,Low,Close,Volume',\n",
    " '2020-03-02,305,324.5,283.5,310,64081',\n",
    " '2020-03-03,325.5,340.5,320,340.5,55496',\n",
    " '2020-03-04,324,340.5,315,330,36152',\n",
    " '2020-03-05,344,344,310,315,35992',\n",
    " '2020-03-06,306.5,307,291,305,32539',\n",
    " '2020-03-09,274,291,250,258,79402',\n",
    " '2020-03-10,278,284.5,256,264,35700',\n",
    " '2020-03-11,270,270,238.5,245,60445',\n",
    " '2020-03-12,218,228,196,197,94031',\n",
    " '2020-03-13,210,229,198.8,211,100412',\n",
    " '2020-03-16,205,248,197.8,240.5,50659',\n",
    " '2020-03-17,245,269,232.5,264,99480',\n",
    " '2020-03-18,264,280,251,270,70136',\n",
    " '2020-03-19,267,280,267,279.5,30732',\n",
    " '2020-03-20,297.5,307,280,280.5,43426',\n",
    " '2020-03-23,274,289,258,285,37098',\n",
    " '2020-03-24,305,309,296.5,309,31939',\n",
    " '2020-03-25,313,330,295,304,46724',\n",
    " '2020-03-26,300,309,295.5,300,27213',\n",
    " '2020-03-27,302,306.5,290,296,13466',\n",
    " '2020-03-30,299,300,287,300,10316',\n",
    " '2020-03-31,302.5,309,302,306.5,15698']\n",
    "\n",
    "Transform the content of the file to get a dictionary containing two keys: 'Date' and 'Close'. The values for these keys will be, respectively, lists consisting of all dates and closing prices. Convert closing prices to float type and print this dictionary to the console as shown below.\n",
    "\n",
    "Formatted result:\n",
    "\n",
    "{'Close': [310.0,\n",
    "  340.5,\n",
    "  330.0,\n",
    "  315.0,\n",
    "  305.0,\n",
    "  258.0,\n",
    "  264.0,\n",
    "  245.0,\n",
    "  197.0,\n",
    "  211.0,\n",
    "  240.5,\n",
    "  264.0,\n",
    "  270.0,\n",
    "  279.5,\n",
    "  280.5,\n",
    "  285.0,\n",
    "  309.0,\n",
    "  304.0,\n",
    "  300.0,\n",
    "  296.0,\n",
    "  300.0,\n",
    "  306.5],\n",
    " 'Date': ['2020-03-02',\n",
    "  '2020-03-03',\n",
    "  '2020-03-04',\n",
    "  '2020-03-05',\n",
    "  '2020-03-06',\n",
    "  '2020-03-09',\n",
    "  '2020-03-10',\n",
    "  '2020-03-11',\n",
    "  '2020-03-12',\n",
    "  '2020-03-13',\n",
    "  '2020-03-16',\n",
    "  '2020-03-17',\n",
    "  '2020-03-18',\n",
    "  '2020-03-19',\n",
    "  '2020-03-20',\n",
    "  '2020-03-23',\n",
    "  '2020-03-24',\n",
    "  '2020-03-25',\n",
    "  '2020-03-26',\n",
    "  '2020-03-27',\n",
    "  '2020-03-30',\n",
    "  '2020-03-31']}\n",
    "\n",
    "Expected result:\n",
    "\n",
    "{'Date': ['2020-03-02', '2020-03-03', '2020-03-04', '2020-03-05', '2020-03-06', '2020-03-09', '2020-03-10', '2020-03-11', '2020-03-12', '2020-03-13', '2020-03-16', '2020-03-17', '2020-03-18', '2020-03-19', '2020-03-20', '2020-03-23', '2020-03-24', '2020-03-25', '2020-03-26', '2020-03-27', '2020-03-30', '2020-03-31'], 'Close': [310.0, 340.5, 330.0, 315.0, 305.0, 258.0, 264.0, 245.0, 197.0, 211.0, 240.5, 264.0, 270.0, 279.5, 280.5, 285.0, 309.0, 304.0, 300.0, 296.0, 300.0, 306.5]}\n"
   ]
  },
  {
   "cell_type": "code",
   "execution_count": 9,
   "id": "901ce21f",
   "metadata": {
    "scrolled": true
   },
   "outputs": [
    {
     "name": "stdout",
     "output_type": "stream",
     "text": [
      "{'Date': ['3/2/2020', '3/3/2020', '3/4/2020', '3/5/2020', '3/6/2020', '3/9/2020', '3/10/2020', '3/11/2020', '3/12/2020', '3/13/2020', '3/16/2020', '3/17/2020', '3/18/2020', '3/19/2020', '3/20/2020', '3/23/2020', '3/24/2020', '3/25/2020', '3/26/2020', '3/27/2020', '3/30/2020', '3/31/2020'], 'Close': [310.0, 340.5, 330.0, 315.0, 305.0, 258.0, 264.0, 245.0, 197.0, 211.0, 240.5, 264.0, 270.0, 279.5, 280.5, 285.0, 309.0, 304.0, 300.0, 296.0, 300.0, 306.5]}\n"
     ]
    }
   ],
   "source": [
    "with open('playway.csv','r') as file:\n",
    "    lines= file.read().splitlines()\n",
    "    \n",
    "data = [(line.split(',')[0], line.split(',')[4]) for line in lines]\n",
    "\n",
    "\n",
    "result = {\n",
    "    data[0][0]:[data[1:][i][0] for i in range(len(data)-1)],\n",
    "    data[0][1]:[float(data[1:][i][1]) for i in range(len(data)-1)]\n",
    "}\n",
    "\n",
    "print(result)"
   ]
  },
  {
   "cell_type": "markdown",
   "id": "39188562",
   "metadata": {},
   "source": [
    "**Exercise 4 The playway.csv file contains Playway's listing for March 2020. This file was loaded as follows to the content variable:**\n",
    "\n",
    "with open('playway.csv', 'r') as file:\n",
    "    content = file.read().splitlines()\n",
    "\n",
    "content:\n",
    "\n",
    "['Date,Open,High,Low,Close,Volume',\n",
    " '2020-03-02,305,324.5,283.5,310,64081',\n",
    " '2020-03-03,325.5,340.5,320,340.5,55496',\n",
    " '2020-03-04,324,340.5,315,330,36152',\n",
    " '2020-03-05,344,344,310,315,35992',\n",
    " '2020-03-06,306.5,307,291,305,32539',\n",
    " '2020-03-09,274,291,250,258,79402',\n",
    " '2020-03-10,278,284.5,256,264,35700',\n",
    " '2020-03-11,270,270,238.5,245,60445',\n",
    " '2020-03-12,218,228,196,197,94031',\n",
    " '2020-03-13,210,229,198.8,211,100412',\n",
    " '2020-03-16,205,248,197.8,240.5,50659',\n",
    " '2020-03-17,245,269,232.5,264,99480',\n",
    " '2020-03-18,264,280,251,270,70136',\n",
    " '2020-03-19,267,280,267,279.5,30732',\n",
    " '2020-03-20,297.5,307,280,280.5,43426',\n",
    " '2020-03-23,274,289,258,285,37098',\n",
    " '2020-03-24,305,309,296.5,309,31939',\n",
    " '2020-03-25,313,330,295,304,46724',\n",
    " '2020-03-26,300,309,295.5,300,27213',\n",
    " '2020-03-27,302,306.5,290,296,13466',\n",
    " '2020-03-30,299,300,287,300,10316',\n",
    " '2020-03-31,302.5,309,302,306.5,15698']\n",
    "\n",
    "Find the highest volume for a given month and print the result to the console as shown below.\n",
    "\n",
    "Expected result:\n",
    "\n",
    "Max Vol: 100412"
   ]
  },
  {
   "cell_type": "code",
   "execution_count": 14,
   "id": "7b29cb12",
   "metadata": {},
   "outputs": [
    {
     "name": "stdout",
     "output_type": "stream",
     "text": [
      "Max Vol: 100412\n"
     ]
    }
   ],
   "source": [
    "with open('playway.csv', 'r') as file:\n",
    "    content = file.read().splitlines()\n",
    "    \n",
    "volumes = [line.split(',')[-1] for line in content[1:]]\n",
    "#print(volumes)\n",
    "volumes = [int(vol) for vol in volumes]\n",
    "#print(volumes)\n",
    "print(f'Max Vol: {max(volumes)}')"
   ]
  },
  {
   "cell_type": "markdown",
   "id": "30b4e552",
   "metadata": {},
   "source": [
    "**Exercise 5 The playway.csv file contains Playway's listing for March 2020. This file was loaded as follows to the content variable:**\n",
    "\n",
    "with open('playway.csv', 'r') as file:\n",
    "    content = file.read().splitlines()\n",
    "\n",
    "content:\n",
    "\n",
    "['Date,Open,High,Low,Close,Volume',\n",
    " '2020-03-02,305,324.5,283.5,310,64081',\n",
    " '2020-03-03,325.5,340.5,320,340.5,55496',\n",
    " '2020-03-04,324,340.5,315,330,36152',\n",
    " '2020-03-05,344,344,310,315,35992',\n",
    " '2020-03-06,306.5,307,291,305,32539',\n",
    " '2020-03-09,274,291,250,258,79402',\n",
    " '2020-03-10,278,284.5,256,264,35700',\n",
    " '2020-03-11,270,270,238.5,245,60445',\n",
    " '2020-03-12,218,228,196,197,94031',\n",
    " '2020-03-13,210,229,198.8,211,100412',\n",
    " '2020-03-16,205,248,197.8,240.5,50659',\n",
    " '2020-03-17,245,269,232.5,264,99480',\n",
    " '2020-03-18,264,280,251,270,70136',\n",
    " '2020-03-19,267,280,267,279.5,30732',\n",
    " '2020-03-20,297.5,307,280,280.5,43426',\n",
    " '2020-03-23,274,289,258,285,37098',\n",
    " '2020-03-24,305,309,296.5,309,31939',\n",
    " '2020-03-25,313,330,295,304,46724',\n",
    " '2020-03-26,300,309,295.5,300,27213',\n",
    " '2020-03-27,302,306.5,290,296,13466',\n",
    " '2020-03-30,299,300,287,300,10316',\n",
    " '2020-03-31,302.5,309,302,306.5,15698']\n",
    "\n",
    "Find the day with the highest volume value for the given month and print the result to the console as shown below.\n",
    "\n",
    "Expected result:\n",
    "\n",
    "Date: 2020-03-13\n"
   ]
  },
  {
   "cell_type": "code",
   "execution_count": 25,
   "id": "99c56d9f",
   "metadata": {},
   "outputs": [
    {
     "name": "stdout",
     "output_type": "stream",
     "text": [
      "[('Date', 'Volume'), ('3/2/2020', '64081'), ('3/3/2020', '55496'), ('3/4/2020', '36152'), ('3/5/2020', '35992'), ('3/6/2020', '32539'), ('3/9/2020', '79402'), ('3/10/2020', '35700'), ('3/11/2020', '60445'), ('3/12/2020', '94031'), ('3/13/2020', '100412'), ('3/16/2020', '50659'), ('3/17/2020', '99480'), ('3/18/2020', '70136'), ('3/19/2020', '30732'), ('3/20/2020', '43426'), ('3/23/2020', '37098'), ('3/24/2020', '31939'), ('3/25/2020', '46724'), ('3/26/2020', '27213'), ('3/27/2020', '13466'), ('3/30/2020', '10316'), ('3/31/2020', '15698')]\n",
      "Date: 3/13/2020\n"
     ]
    }
   ],
   "source": [
    "with open('playway.csv','r') as file:\n",
    "    content = file.read().splitlines()\n",
    "    \n",
    "data = [(line.split(',')[0], line.split(',')[-1]) for line in content]\n",
    "\n",
    "print(data)\n",
    "\n",
    "data = [(val[0],int(val[1]))for val in data[1:]]\n",
    "\n",
    "max_vol= max([val[1]for val in data])\n",
    "\n",
    "max_date = list(filter(lambda val: val[1] == max_vol, data))[0][0]\n",
    "print(f'Date: {max_date}')"
   ]
  },
  {
   "cell_type": "code",
   "execution_count": null,
   "id": "f30d1694",
   "metadata": {},
   "outputs": [],
   "source": []
  }
 ],
 "metadata": {
  "kernelspec": {
   "display_name": "Python 3 (ipykernel)",
   "language": "python",
   "name": "python3"
  },
  "language_info": {
   "codemirror_mode": {
    "name": "ipython",
    "version": 3
   },
   "file_extension": ".py",
   "mimetype": "text/x-python",
   "name": "python",
   "nbconvert_exporter": "python",
   "pygments_lexer": "ipython3",
   "version": "3.9.12"
  }
 },
 "nbformat": 4,
 "nbformat_minor": 5
}
