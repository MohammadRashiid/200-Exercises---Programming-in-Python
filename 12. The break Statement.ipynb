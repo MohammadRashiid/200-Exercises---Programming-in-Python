{
 "cells": [
  {
   "cell_type": "markdown",
   "id": "127f01b9",
   "metadata": {},
   "source": [
    "**Exercise 1 Write a program that compares two lists and returns True if the lists contain at least one of the same element. Otherwise, it will return False.**\n",
    "\n",
    "Use break statement in the solution and print result to the console.\n",
    "\n",
    "Lists:\n",
    "\n",
    "list1 = [1, 2, 0]\n",
    "list2 = [4, 5, 6, 1]\n",
    "\n",
    "Expected result:\n",
    "\n",
    "True"
   ]
  },
  {
   "cell_type": "code",
   "execution_count": 9,
   "id": "819353a9",
   "metadata": {},
   "outputs": [
    {
     "name": "stdout",
     "output_type": "stream",
     "text": [
      "True\n"
     ]
    }
   ],
   "source": [
    "list1 = [1, 2, 0] \n",
    "list2 = [4, 5, 6, 1]\n",
    "result  = False\n",
    "for n1 in list1:\n",
    "    if n1 in list2:\n",
    "        result = True\n",
    "        break\n",
    "print(result)\n",
    "        "
   ]
  },
  {
   "cell_type": "markdown",
   "id": "eaa68f69",
   "metadata": {},
   "source": [
    "**Exercise 2 The following list of hashtags is given:**\n",
    "\n",
    "hashtags = ['holiday', 'sport', 'fit', None, 'fashion']\n",
    "\n",
    "Check if all objects in the list are of str type. If so, print True, otherwise print False. Use the break statement in your solution.\n",
    "\n",
    "Expected result:\n",
    "\n",
    "False\n"
   ]
  },
  {
   "cell_type": "code",
   "execution_count": 17,
   "id": "7cf8deb5",
   "metadata": {},
   "outputs": [
    {
     "name": "stdout",
     "output_type": "stream",
     "text": [
      "False\n"
     ]
    }
   ],
   "source": [
    "hashtags = ['holiday', 'sport', 'fit', None, 'fashion']\n",
    "\n",
    "result = True\n",
    "\n",
    "for obj in hashtags:\n",
    "    if not isinstance(hashtags,str):\n",
    "        result=False\n",
    "        break\n",
    "\n",
    "    \n",
    "print(result)\n"
   ]
  },
  {
   "cell_type": "markdown",
   "id": "d8d137e7",
   "metadata": {},
   "source": [
    "**Exercise 3 Write a program that checks if the given number is a prime number (use the break statement):**\n",
    "\n",
    "number = 13\n",
    "\n",
    "Print one of the following to the console depends on the result:\n",
    "\n",
    "13 - prime number\n",
    "13 - not a prime number\n",
    "\n",
    "Expected result:\n",
    "\n",
    "13 - prime number\n"
   ]
  },
  {
   "cell_type": "code",
   "execution_count": 31,
   "id": "95536cae",
   "metadata": {},
   "outputs": [
    {
     "name": "stdout",
     "output_type": "stream",
     "text": [
      "13 - prime number\n"
     ]
    }
   ],
   "source": [
    "number = 13\n",
    "\n",
    "if number > 1:\n",
    "    for i in range(2,number):\n",
    "        if number%i==0:\n",
    "            print(f\"{number} - not a prime number\")\n",
    "            break\n",
    "    else:\n",
    "        print(f\"{number} - prime number\")\n",
    "        \n",
    "else:\n",
    "    print(f\"{number} - not a prime number\")"
   ]
  },
  {
   "cell_type": "code",
   "execution_count": null,
   "id": "a722f65b",
   "metadata": {},
   "outputs": [],
   "source": []
  }
 ],
 "metadata": {
  "kernelspec": {
   "display_name": "Python 3 (ipykernel)",
   "language": "python",
   "name": "python3"
  },
  "language_info": {
   "codemirror_mode": {
    "name": "ipython",
    "version": 3
   },
   "file_extension": ".py",
   "mimetype": "text/x-python",
   "name": "python",
   "nbconvert_exporter": "python",
   "pygments_lexer": "ipython3",
   "version": "3.9.12"
  }
 },
 "nbformat": 4,
 "nbformat_minor": 5
}
