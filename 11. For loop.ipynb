{
 "cells": [
  {
   "cell_type": "markdown",
   "id": "962011ff",
   "metadata": {},
   "source": [
    "**Exercise 1 Write a program that finds all two-digit numbers divisible by 11 (use a for loop). Print the result to the console as comma-separated values as shown below.**\n",
    "\n",
    "Expected result:\n",
    "\n",
    "11,22,33,44,55,66,77,88,99"
   ]
  },
  {
   "cell_type": "code",
   "execution_count": 5,
   "id": "5c08be46",
   "metadata": {},
   "outputs": [
    {
     "name": "stdout",
     "output_type": "stream",
     "text": [
      "11,22,33,44,55,66,77,88,99\n"
     ]
    }
   ],
   "source": [
    "result = []\n",
    "for i in range(10,100):\n",
    "    if i%11==0:\n",
    "        result.append(str(i))\n",
    "print(','.join(result))"
   ]
  },
  {
   "cell_type": "markdown",
   "id": "12c253fb",
   "metadata": {},
   "source": [
    "**Exercise 2 Write a program that finds all two-digit numbers divisible by 11 and indivisible by 3 (use a for loop). Print the result to the console as comma-separated values as shown below.**\n",
    "\n",
    "Expected result:\n",
    "\n",
    "11,22,44,55,77,88"
   ]
  },
  {
   "cell_type": "code",
   "execution_count": 6,
   "id": "51c16ce6",
   "metadata": {},
   "outputs": [
    {
     "name": "stdout",
     "output_type": "stream",
     "text": [
      "11,22,44,55,77,88\n"
     ]
    }
   ],
   "source": [
    "result = []\n",
    "for i in range(10,100):\n",
    "    if i%11==0 and i%3!=0:\n",
    "        result.append(str(i))\n",
    "print(','.join(result))"
   ]
  },
  {
   "cell_type": "markdown",
   "id": "dcc36cbd",
   "metadata": {},
   "source": [
    "**Exercise 3 The following list of numbers is given:**\n",
    "\n",
    "items = [1, 3, 4, 5, 6, 9, 10, 17, 23, 24]\n",
    "\n",
    "Write a program that removes odd numbers and returns the remaining ones. Print the result to the console.\n",
    "\n",
    "Expected results:\n",
    "\n",
    "[4, 6, 10, 24]\n"
   ]
  },
  {
   "cell_type": "code",
   "execution_count": 7,
   "id": "02e74ba3",
   "metadata": {},
   "outputs": [
    {
     "name": "stdout",
     "output_type": "stream",
     "text": [
      "[4, 6, 10, 24]\n"
     ]
    }
   ],
   "source": [
    "items = [1, 3, 4, 5, 6, 9, 10, 17, 23, 24]\n",
    "even_numbers = []\n",
    "\n",
    "for num in items:\n",
    "    if num%2==0:\n",
    "        even_numbers.append(num)\n",
    "print(even_numbers)"
   ]
  },
  {
   "cell_type": "markdown",
   "id": "9681e69a",
   "metadata": {},
   "source": [
    "**Exercise 4 The following list is given:**\n",
    "\n",
    "items = [1, 5, 3, 2, 2, 4, 2, 4]\n",
    "\n",
    "Write a program that removes duplicates from the list (the order must be kept) and print the list to the console.\n",
    "\n",
    "Expected result:\n",
    "\n",
    "[1, 5, 3, 2, 4]"
   ]
  },
  {
   "cell_type": "code",
   "execution_count": 9,
   "id": "d2872db7",
   "metadata": {},
   "outputs": [
    {
     "name": "stdout",
     "output_type": "stream",
     "text": [
      "[1, 5, 3, 2, 4]\n"
     ]
    }
   ],
   "source": [
    "items = [1, 5, 3, 2, 2, 4, 2, 4]\n",
    "result = []\n",
    "for num in items:\n",
    "    if num not in result:\n",
    "        result.append(num)\n",
    "print(result)"
   ]
  },
  {
   "cell_type": "markdown",
   "id": "8bac6a1d",
   "metadata": {},
   "source": [
    "**Exercise 5 The following text is given:**\n",
    "\n",
    "text = 'Python is a very popular programming language'\n",
    "\n",
    "Write a program which extracts exactly the first four words as a list. Standardize each word, i.e. replace uppercase letters with lowercase. Present the result in a list and print to the console as shown below.\n",
    "\n",
    "Expected result:\n",
    "\n",
    "['python', 'is', 'a', 'very']\n"
   ]
  },
  {
   "cell_type": "code",
   "execution_count": 10,
   "id": "53fc8670",
   "metadata": {},
   "outputs": [
    {
     "name": "stdout",
     "output_type": "stream",
     "text": [
      "['python', 'is', 'a', 'very']\n"
     ]
    }
   ],
   "source": [
    "text = 'Python is a very popular programming language'\n",
    "words = text.split(' ')\n",
    "result = []\n",
    "\n",
    "for index,word in enumerate(words):\n",
    "    if index<4:\n",
    "        result.append(word.lower())\n",
    "        \n",
    "print(result)"
   ]
  },
  {
   "cell_type": "markdown",
   "id": "dfead135",
   "metadata": {},
   "source": [
    "**Exercise 6 Write a program that returns a list of values above the given threshold = 0.5 from the following list:**\n",
    "\n",
    "probabilities = [0.21, 0.91, 0.34, 0.55, 0.76, 0.02]\n",
    "\n",
    "Expected result:\n",
    "\n",
    "[0.91, 0.55, 0.76]"
   ]
  },
  {
   "cell_type": "code",
   "execution_count": 11,
   "id": "1a40b54a",
   "metadata": {},
   "outputs": [
    {
     "name": "stdout",
     "output_type": "stream",
     "text": [
      "[0.91, 0.55, 0.76]\n"
     ]
    }
   ],
   "source": [
    "probabilities = [0.21, 0.91, 0.34, 0.55, 0.76, 0.02]\n",
    "\n",
    "result=[]\n",
    "\n",
    "for num in probabilities:\n",
    "    if num > 0.5:\n",
    "        result.append(num)\n",
    "print(result)"
   ]
  },
  {
   "cell_type": "markdown",
   "id": "f1af4deb",
   "metadata": {},
   "source": [
    "**Exercise 7 Consider the problem of binary classification in machine learning. The machine learning model returns the probability of belonging to the class. If it's less than 0.5, the sample is assigned to class 0, otherwise to class 1.**\n",
    "\n",
    "A list of probabilities from the machine learning model is given:\n",
    "\n",
    "probabilities = [0.21, 0.91, 0.34, 0.55, 0.76, 0.02]\n",
    "\n",
    "Write a program that assigns class 0 for values less than 0.5 and 1 for values greater than or equal to 0.5. Print the result to the console as shown below.\n",
    "\n",
    "Expected result:\n",
    "\n",
    "[0, 1, 0, 1, 1, 0]"
   ]
  },
  {
   "cell_type": "code",
   "execution_count": 12,
   "id": "c34c982d",
   "metadata": {},
   "outputs": [
    {
     "name": "stdout",
     "output_type": "stream",
     "text": [
      "[0, 1, 0, 1, 1, 0]\n"
     ]
    }
   ],
   "source": [
    "probabilities = [0.21, 0.91, 0.34, 0.55, 0.76, 0.02]\n",
    "\n",
    "result = []\n",
    "\n",
    "for num in probabilities:\n",
    "    if num<0.5:\n",
    "        result.append(0)\n",
    "    else:\n",
    "        result.append(1)\n",
    "print(result)"
   ]
  },
  {
   "cell_type": "markdown",
   "id": "93113140",
   "metadata": {},
   "source": [
    "**Exercise 8 Write a program that creates a histogram as a dictionary of the following values:**\n",
    "\n",
    "items = ['x', 'y', 'z', 'y', 'x', 'y', 'y', 'z', 'x']\n",
    "\n",
    "In response print histogram to the console.\n",
    "\n",
    "Expected result:\n",
    "\n",
    "{'x': 3, 'y': 4, 'z': 2}"
   ]
  },
  {
   "cell_type": "code",
   "execution_count": 17,
   "id": "05fbd5b2",
   "metadata": {},
   "outputs": [
    {
     "name": "stdout",
     "output_type": "stream",
     "text": [
      "{'x': 3, 'y': 4, 'z': 2}\n"
     ]
    }
   ],
   "source": [
    "items = ['x', 'y', 'z', 'y', 'x', 'y', 'y', 'z', 'x']\n",
    "d1 = {}\n",
    "\n",
    "for i in items:\n",
    "    if i not in d1.keys():\n",
    "        d1[i]=1\n",
    "    else:\n",
    "        d1[i]+=1\n",
    "print(d1)"
   ]
  },
  {
   "cell_type": "markdown",
   "id": "57066670",
   "metadata": {},
   "source": [
    "**Exercise 9 The following text is given:**\n",
    "\n",
    "text = \"\"\"Python is powerful... and fast\n",
    "plays well with others\n",
    "runs everywhere\n",
    "is friendly & easy to learn\n",
    "is Open\n",
    "These are some of the reasons people who use \n",
    "Python would rather not use anything else\"\"\"\n",
    "\n",
    "Create a list of words from the given text. Then standardize this text (change uppercase letters to lowercase, remove punctuation marks). Extract words longer than six characters and print the result to the console.\n",
    "\n",
    "Expected result:\n",
    "\n",
    "['powerful', 'everywhere', 'friendly', 'reasons', 'anything']"
   ]
  },
  {
   "cell_type": "code",
   "execution_count": 22,
   "id": "c2b295dd",
   "metadata": {},
   "outputs": [
    {
     "name": "stdout",
     "output_type": "stream",
     "text": [
      "['powerful', 'everywhere', 'friendly', 'reasons', 'anything']\n"
     ]
    }
   ],
   "source": [
    "text = \"\"\"Python is powerful... and fast\n",
    "plays well with others\n",
    "runs everywhere\n",
    "is friendly & easy to learn\n",
    "is Open\n",
    "These are some of the reasons people who use \n",
    "Python would rather not use anything else\"\"\"\n",
    "\n",
    "words = text.split()\n",
    "words =[word.lower() for word in words]\n",
    "words =[word.replace(',','').replace('.','') for word in words if len(word)>6]\n",
    "print(words)"
   ]
  },
  {
   "cell_type": "markdown",
   "id": "ef2c1983",
   "metadata": {},
   "source": [
    "**Exercise 10 The list of stock indexes is given:**\n",
    "\n",
    "indexes = [\n",
    "    'BOVESPA', 'DOW JONES COMP', 'DOW JONES INDU',\n",
    "    'DOW JONES TRANS', 'DOW JONES UTIL', 'IPC',\n",
    "    'IPSA', 'MERVAL', 'NASDAQ COMP', 'NASDAQ100',\n",
    "    'S&P500', 'S&P/TSX COMP'\n",
    "]\n",
    "\n",
    "Iterate through the indexes list and print to the console only those indexes containing 'DOW' or 'S&P'.\n",
    "\n",
    "Expected result:\n",
    "\n",
    "DOW JONES COMP\n",
    "DOW JONES INDU\n",
    "DOW JONES TRANS\n",
    "DOW JONES UTIL\n",
    "S&P500\n",
    "S&P/TSX COMP"
   ]
  },
  {
   "cell_type": "code",
   "execution_count": 26,
   "id": "3682c5e3",
   "metadata": {},
   "outputs": [
    {
     "name": "stdout",
     "output_type": "stream",
     "text": [
      "DOW JONES COMP\n",
      "DOW JONES INDU\n",
      "DOW JONES TRANS\n",
      "DOW JONES UTIL\n",
      "S&P500\n",
      "S&P/TSX COMP\n"
     ]
    }
   ],
   "source": [
    "indexes = [ 'BOVESPA', 'DOW JONES COMP', 'DOW JONES INDU', 'DOW JONES TRANS', 'DOW JONES UTIL', 'IPC', 'IPSA', 'MERVAL', 'NASDAQ COMP', 'NASDAQ100', 'S&P500', 'S&P/TSX COMP' ]\n",
    "\n",
    "for item in indexes:\n",
    "    if 'DOW' in item or 'S&P' in item:\n",
    "        print(item)\n"
   ]
  },
  {
   "cell_type": "markdown",
   "id": "be0118d2",
   "metadata": {},
   "source": [
    "**Exercise 11 A dictionary of companies from the WIG.GAMES index is given. The key is the 3-letter company ticker and value - close price:**\n",
    "\n",
    "gaming = {\n",
    "    '11B': 362.5,\n",
    "    'CDR': 297.0,\n",
    "    'CIG': 0.85,\n",
    "    'PLW': 318.0,\n",
    "    'TEN': 300.0\n",
    "}\n",
    "\n",
    "Iterate through this dictionary and print the tickers of those companies where closing price is greater than 100.00 PLN.\n",
    "\n",
    "Expected result:\n",
    "\n",
    "11B\n",
    "CDR\n",
    "PLW\n",
    "TEN"
   ]
  },
  {
   "cell_type": "code",
   "execution_count": 29,
   "id": "f83e2687",
   "metadata": {},
   "outputs": [
    {
     "name": "stdout",
     "output_type": "stream",
     "text": [
      "11B\n",
      "CDR\n",
      "PLW\n",
      "TEN\n"
     ]
    }
   ],
   "source": [
    "gaming = { '11B': 362.5, 'CDR': 297.0, 'CIG': 0.85, 'PLW': 318.0, 'TEN': 300.0 }\n",
    "\n",
    "for key,value in gaming.items():\n",
    "    if value > 100.00:\n",
    "        print(key)\n",
    "    "
   ]
  },
  {
   "cell_type": "markdown",
   "id": "48ba5a62",
   "metadata": {},
   "source": [
    "**Exercise 12 A list of names entered by users into the system is given below (without validation process):**\n",
    "\n",
    "names = ['Jack', 'Leon', 'Alice', '32-3c', 'Bob']\n",
    "\n",
    "Iterate through the names list and check if each name is correct (contains only letters). If so, print to the console following message: f'Hello {name}!' otherwise do nothing.\n",
    "\n",
    "Tip: Use the str.isalpha() method.\n",
    "\n",
    "Expected result:\n",
    "\n",
    "Hello Jack!\n",
    "Hello Leon!\n",
    "Hello Alice!\n",
    "Hello Bob!"
   ]
  },
  {
   "cell_type": "code",
   "execution_count": 31,
   "id": "e8a670f2",
   "metadata": {},
   "outputs": [
    {
     "name": "stdout",
     "output_type": "stream",
     "text": [
      "Hello Jack!\n",
      "Hello Leon!\n",
      "Hello Alice!\n",
      "Hello Bob!\n"
     ]
    }
   ],
   "source": [
    "names = ['Jack', 'Leon', 'Alice', '32-3c', 'Bob']\n",
    "\n",
    "for name in names:\n",
    "    if name.isalpha():\n",
    "        print(f\"Hello {name}!\")\n"
   ]
  },
  {
   "cell_type": "code",
   "execution_count": null,
   "id": "d4d6133f",
   "metadata": {},
   "outputs": [],
   "source": []
  },
  {
   "cell_type": "code",
   "execution_count": null,
   "id": "58a7d816",
   "metadata": {},
   "outputs": [],
   "source": []
  },
  {
   "cell_type": "code",
   "execution_count": null,
   "id": "139fb769",
   "metadata": {},
   "outputs": [],
   "source": []
  },
  {
   "cell_type": "code",
   "execution_count": null,
   "id": "69ce6897",
   "metadata": {},
   "outputs": [],
   "source": []
  }
 ],
 "metadata": {
  "kernelspec": {
   "display_name": "Python 3 (ipykernel)",
   "language": "python",
   "name": "python3"
  },
  "language_info": {
   "codemirror_mode": {
    "name": "ipython",
    "version": 3
   },
   "file_extension": ".py",
   "mimetype": "text/x-python",
   "name": "python",
   "nbconvert_exporter": "python",
   "pygments_lexer": "ipython3",
   "version": "3.9.12"
  }
 },
 "nbformat": 4,
 "nbformat_minor": 5
}
