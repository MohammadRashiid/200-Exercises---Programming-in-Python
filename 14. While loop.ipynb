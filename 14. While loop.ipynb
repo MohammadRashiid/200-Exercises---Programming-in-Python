{
 "cells": [
  {
   "cell_type": "markdown",
   "id": "d9b7f655",
   "metadata": {},
   "source": [
    "**Exercise 1 Write a program that prints to the console the first ten prime numbers separated by a comma.**\n",
    "\n",
    "Tip: Use a while loop with break statement.\n",
    "\n",
    "Expected result:\n",
    "\n",
    "2,3,5,7,11,13,17,19,23,29"
   ]
  },
  {
   "cell_type": "code",
   "execution_count": 3,
   "id": "5f0a6e96",
   "metadata": {},
   "outputs": [
    {
     "name": "stdout",
     "output_type": "stream",
     "text": [
      "2,3,5,7,11,13,17,19,23,29\n"
     ]
    }
   ],
   "source": [
    "counter = 0\n",
    "number = 2\n",
    "prime = []\n",
    "\n",
    "while counter<10:\n",
    "    for i in range(2,number):\n",
    "        if number%i==0:\n",
    "            break\n",
    "    else:\n",
    "        prime.append(str(number))\n",
    "        counter+=1\n",
    "    number+=1\n",
    "    \n",
    "print(','.join(prime))\n",
    "    \n"
   ]
  },
  {
   "cell_type": "markdown",
   "id": "8f743ea6",
   "metadata": {},
   "source": [
    "**Exercise 2 Using the while loop, calculate how many years you have to wait for the return on the investment described below to at least double your money (we only take into account full periods).**\n",
    "\n",
    "Description:\n",
    "\n",
    "n - number of periods (in years)\n",
    "pv - present value\n",
    "r - interest rate (annual)\n",
    "fv - future value\n",
    "\n",
    "Investment parameters:\n",
    "\n",
    "pv = 1000\n",
    "r = 0.04\n",
    "\n",
    "Print result to the console as shown below.\n",
    "\n",
    "Expected result:\n",
    "\n",
    "Future value: 2025.82 USD. Number of periods: 18 years"
   ]
  },
  {
   "cell_type": "code",
   "execution_count": 4,
   "id": "714aac0c",
   "metadata": {},
   "outputs": [
    {
     "name": "stdout",
     "output_type": "stream",
     "text": [
      "Future value: 2025.82 USD. Number of periods: 18 years\n"
     ]
    }
   ],
   "source": [
    "n = 1\n",
    "pv = 1000\n",
    "r = 0.04\n",
    "fv = pv * (1 + r)\n",
    " \n",
    "while fv <= 2000:\n",
    "    fv = fv * (1 + r)\n",
    "    n += 1\n",
    "print(f'Future value: {fv:.2f} USD. Number of periods: {n} years')"
   ]
  },
  {
   "attachments": {
    "math.svg": {
     "image/svg+xml": [
      "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"
     ]
    }
   },
   "cell_type": "markdown",
   "id": "a6b68f1b",
   "metadata": {},
   "source": [
    "**Exercise 3 Use the stochastic gradient descent algorithm to find the minimum of the loss function given by the formula:**\n",
    "\n",
    "The derivative of function L: ![math.svg](attachment:math.svg) \n",
    "\n",
    "Algorithm: \n",
    "\n",
    "\n",
    "1. We start from the starting point, let's take:\n",
    "\n",
    "w_0 = -1\n",
    "\n",
    "2. We define in advance the maximum number of iterations:\n",
    "\n",
    "max_iters = 10000 \n",
    "\n",
    "3. We define a variable that will help us control the size of the step towards the minimum, let's set this value to 1:\n",
    "\n",
    "previous_step_size = 1\n",
    "\n",
    "4. We define the learning rate:\n",
    "\n",
    "learning_rate = 0.01\n",
    "\n",
    "5. We define the precision that is enough to find the minimum:\n",
    "\n",
    "precision = 0.000001\n",
    "\n",
    "6. We define the derivative of a function:\n",
    "\n",
    "derivative = lambda w: 2 * w - 4\n",
    "\n",
    "To find the minimum of the L function, move along the opposite direction to the direction of the gradient by updating the value w_0 as follows:\n",
    "\n",
    "w_0 = w_0 - learning_rate * derivative(w_prev)\n",
    "\n",
    "where w_prev is the point from the previous iteration. For the first point is just w_0.\n",
    "\n",
    "Create a while loop that will stop the algorithm when the minimum is found with the precision we assumed or if we exceed the maximum number of iterations. Print the result to the console as shown below.\n",
    "\n",
    "Tip: Conditions in a while loop:\n",
    "\n",
    "while previous_step_size > precision and iters < max_iters:\n",
    "\n",
    "Expected result:\n",
    "\n",
    "A local minimum in point: 2.00"
   ]
  },
  {
   "cell_type": "code",
   "execution_count": 5,
   "id": "59c1bbf9",
   "metadata": {},
   "outputs": [
    {
     "name": "stdout",
     "output_type": "stream",
     "text": [
      "A local minimum in point: 2.00\n"
     ]
    }
   ],
   "source": [
    "max_iters = 10000 \n",
    "iters = 0\n",
    "w_0 = -1\n",
    "previous_step_size = 1\n",
    "learning_rate = 0.01\n",
    "precision = 0.000001\n",
    "derivative = lambda w: 2 * w - 4\n",
    " \n",
    "while previous_step_size > precision and iters < max_iters:\n",
    "    w_prev = w_0\n",
    "    w_0 = w_prev - learning_rate * derivative(w_prev)\n",
    "    previous_step_size = abs(w_0 - w_prev)\n",
    "    iters += 1\n",
    " \n",
    "print(f'A local minimum in point: {w_0:.2f}')"
   ]
  },
  {
   "cell_type": "markdown",
   "id": "6282c133",
   "metadata": {},
   "source": [
    "**Exercise 4 Write a program that checks if the given element (target) is in the sorted list (numbers). We have given:**\n",
    "\n",
    "numbers = [1, 2, 3, 4, 5, 6, 7, 8, 9]\n",
    "target = 7\n",
    "\n",
    "Algorithm:\n",
    "\n",
    "1. We set the start and end index as well as the flag = None.\n",
    "\n",
    "2. As long as the start index is not greater than the end index, select the middle index (mid) of the list (arithmetic average of the start and end index -> remember to convert the result with the int() function). If the start index is greater than the end index, we end the algorithm.\n",
    "\n",
    "3. Check if the element for the index calculated in this way is our target. If so, we set the flag to True and terminate the algorithm. If not -> step 4.\n",
    "\n",
    "4. We check if the element of the list for the index mid is less than the target. If so, we increase the start index by 1. If not, we reduce the end index by 1 and go to step 2.\n",
    "\n",
    "After while loop, depending on the value of the flag, print to the console:\n",
    "\n",
    "'Found' or 'Not found'.\n",
    "\n",
    "Expected result:\n",
    "\n",
    "Found"
   ]
  },
  {
   "cell_type": "code",
   "execution_count": 6,
   "id": "436c9cd7",
   "metadata": {},
   "outputs": [
    {
     "name": "stdout",
     "output_type": "stream",
     "text": [
      "Found\n"
     ]
    }
   ],
   "source": [
    "numbers = [1, 2, 3, 4, 5, 6, 7, 8, 9]\n",
    "target = 7\n",
    "start = 0\n",
    "end = len(numbers) - 1\n",
    "flag = None\n",
    " \n",
    "while start <= end:\n",
    "    mid = int((start + end) / 2)\n",
    "    if numbers[mid] == target:\n",
    "        flag = True\n",
    "        break\n",
    "    else:\n",
    "        if numbers[mid] < target:\n",
    "            start = mid + 1\n",
    "        else:\n",
    "            end = mid - 1\n",
    " \n",
    "if flag:\n",
    "    print('Found')\n",
    "else:\n",
    "    print('Not found')"
   ]
  },
  {
   "cell_type": "code",
   "execution_count": null,
   "id": "c956df40",
   "metadata": {},
   "outputs": [],
   "source": []
  }
 ],
 "metadata": {
  "kernelspec": {
   "display_name": "Python 3 (ipykernel)",
   "language": "python",
   "name": "python3"
  },
  "language_info": {
   "codemirror_mode": {
    "name": "ipython",
    "version": 3
   },
   "file_extension": ".py",
   "mimetype": "text/x-python",
   "name": "python",
   "nbconvert_exporter": "python",
   "pygments_lexer": "ipython3",
   "version": "3.9.12"
  }
 },
 "nbformat": 4,
 "nbformat_minor": 5
}
