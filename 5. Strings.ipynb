{
 "cells": [
  {
   "cell_type": "markdown",
   "id": "6fad6a9f",
   "metadata": {},
   "source": [
    "**Exercise 1 The following text is given:**\n",
    "\n",
    "text = 'python is a popular programming language.'\n",
    "\n",
    "Use the appropriate method to replace the first letter of the text with uppercase. Print the result to the console.\n",
    "\n",
    "\n",
    "Expected result:\n",
    "\n",
    "Python is a popular programming language.\n"
   ]
  },
  {
   "cell_type": "code",
   "execution_count": 1,
   "id": "f0696b9f",
   "metadata": {},
   "outputs": [
    {
     "name": "stdout",
     "output_type": "stream",
     "text": [
      "Python is a popular programming language.\n"
     ]
    }
   ],
   "source": [
    "text = 'python is a popular programming language.'\n",
    "\n",
    "print(text.capitalize())"
   ]
  },
  {
   "cell_type": "markdown",
   "id": "81224264",
   "metadata": {},
   "source": [
    "**Exercise 2 The following text is given:**\n",
    "\n",
    "text = 'python is a popular programming language.'\n",
    "\n",
    "Using the appropriate method count the number of occurrences of the letter 'p' and print the result to the console as shown below.\n",
    "\n",
    "\n",
    "Expected result:\n",
    "\n",
    "Number of occurrences: 4\n"
   ]
  },
  {
   "cell_type": "code",
   "execution_count": 9,
   "id": "23c7a7db",
   "metadata": {},
   "outputs": [
    {
     "name": "stdout",
     "output_type": "stream",
     "text": [
      "Number of occurences: 4\n"
     ]
    }
   ],
   "source": [
    "text = 'python is a popular programming language.'\n",
    "\n",
    "print(f\"Number of occurences: {text.count('p')}\")\n"
   ]
  },
  {
   "cell_type": "markdown",
   "id": "f6f4bb3f",
   "metadata": {},
   "source": [
    "**Exercise 3 The following codes are given:**\n",
    "\n",
    "code1 = 'FVNISJND-XX-2020'\n",
    "code2 = 'FVNISJND-XY-2019'\n",
    "\n",
    "Using the appropriate method check if the codes end in '2020'. Print the result to the console as shown below.\n",
    "\n",
    "Expected result:\n",
    "\n",
    "code1: True\n",
    "code2: False\n"
   ]
  },
  {
   "cell_type": "code",
   "execution_count": 11,
   "id": "05eb202d",
   "metadata": {},
   "outputs": [
    {
     "name": "stdout",
     "output_type": "stream",
     "text": [
      "code1: True\n",
      "code2: False\n"
     ]
    }
   ],
   "source": [
    "code1 = 'FVNISJND-XX-2020' \n",
    "code2 = 'FVNISJND-XY-2019'\n",
    "\n",
    "print(f\"code1: {code1.endswith('2020')}\")\n",
    "print(f\"code2: {code2.endswith('2020')}\")"
   ]
  },
  {
   "cell_type": "markdown",
   "id": "dd48bb19",
   "metadata": {},
   "source": [
    "**Exercise 4 The following paths are given:**\n",
    "\n",
    "path1 = 'youtube.com/watch?v=5EhRztVxums'\n",
    "path2 = 'google.com/search?q=car'\n",
    "\n",
    "Using the appropriate method check if the paths refer to YouTube (e.g. start with 'youtube'). Print the result to the console as shown below.\n",
    "\n",
    "Expected result:\n",
    "\n",
    "path1: True\n",
    "path2: False"
   ]
  },
  {
   "cell_type": "code",
   "execution_count": 12,
   "id": "9c99c4ec",
   "metadata": {},
   "outputs": [
    {
     "name": "stdout",
     "output_type": "stream",
     "text": [
      "path1: True\n",
      "path2: False\n"
     ]
    }
   ],
   "source": [
    "path1 = 'youtube.com/watch?v=5EhRztVxums' \n",
    "path2 = 'google.com/search?q=car'\n",
    "\n",
    "print(f\"path1: {path1.startswith('youtube')}\")\n",
    "\n",
    "print(f\"path2: {path2.startswith('youtube')}\")"
   ]
  },
  {
   "cell_type": "markdown",
   "id": "2f8e3849",
   "metadata": {},
   "source": [
    "**Exercise 5 The following paths are given:**\n",
    "\n",
    "path1 = 'https://e-smartdata.teachable.com/p/sciezka-data-scientist-machine-learning-engineer'\n",
    "path2 = 'https://e-smartdata.teachable.com/p/sciezka-data-scientist-deep-learning-engineer'\n",
    "path3 = 'https://e-smartdata.teachable.com/p/sciezka-bi-analyst-data-analyst'\n",
    "\n",
    "Using the appropriate method, find the word 'scientist' in the given paths, returning the index for the first letter of the found word. If the word is not in the path, the method should return -1. Print the result to the console as shown below.\n",
    "\n",
    "Expected result:\n",
    "\n",
    "path1: 49\n",
    "path2: 49\n",
    "path3: -1"
   ]
  },
  {
   "cell_type": "code",
   "execution_count": 14,
   "id": "159a7368",
   "metadata": {},
   "outputs": [
    {
     "name": "stdout",
     "output_type": "stream",
     "text": [
      "path1: 49\n",
      "path2: 49\n",
      "path3: -1\n"
     ]
    }
   ],
   "source": [
    "path1 = 'https://e-smartdata.teachable.com/p/sciezka-data-scientist-machine-learning-engineer' \n",
    "path2 = 'https://e-smartdata.teachable.com/p/sciezka-data-scientist-deep-learning-engineer' \n",
    "path3 = 'https://e-smartdata.teachable.com/p/sciezka-bi-analyst-data-analyst'\n",
    "\n",
    "print(f\"path1: {path1.find('scientist')}\")\n",
    "print(f\"path2: {path2.find('scientist')}\")\n",
    "print(f\"path3: {path3.find('scientist')}\")"
   ]
  },
  {
   "cell_type": "markdown",
   "id": "108223d9",
   "metadata": {},
   "source": [
    "**Exercise 6 The following codes are given:**\n",
    "\n",
    "code1 = 'FVNISJND-20'\n",
    "code2 = 'FVNISJND20'\n",
    "\n",
    "Using the appropriate method, check whether the codes consist only of alphanumeric characters (numbers + letters). Print the result to the console as shown below.\n",
    "\n",
    "Expected result:\n",
    "\n",
    "code1: False\n",
    "code2: True\n"
   ]
  },
  {
   "cell_type": "code",
   "execution_count": 17,
   "id": "2ea28f05",
   "metadata": {},
   "outputs": [
    {
     "name": "stdout",
     "output_type": "stream",
     "text": [
      "code1: False\n",
      "code2: True\n"
     ]
    }
   ],
   "source": [
    "code1 = 'FVNISJND-20' \n",
    "code2 = 'FVNISJND20'\n",
    "\n",
    "print(f\"code1: {code1.isalnum()}\")\n",
    "\n",
    "print(f\"code2: {code2.isalnum()}\")"
   ]
  },
  {
   "cell_type": "markdown",
   "id": "9aacb0da",
   "metadata": {},
   "source": [
    "**Exercise 7 The following text is given:**\n",
    "\n",
    "text = 'Google Colab'\n",
    "\n",
    "Using the appropriate method convert all letters to lowercase. Print the result to the console.\n",
    "\n",
    "Expected result:\n",
    "\n",
    "google colab\n"
   ]
  },
  {
   "cell_type": "code",
   "execution_count": 18,
   "id": "8187ede2",
   "metadata": {},
   "outputs": [
    {
     "name": "stdout",
     "output_type": "stream",
     "text": [
      "google colab\n"
     ]
    }
   ],
   "source": [
    "text = 'Google Colab'\n",
    "\n",
    "print(text.lower())"
   ]
  },
  {
   "cell_type": "markdown",
   "id": "66763f5a",
   "metadata": {},
   "source": [
    "**Exercise 8 The following text is given:**\n",
    "\n",
    "text = 'Google Colab'\n",
    "\n",
    "Using the appropriate method convert all letters to uppercase. Print the result to the console.\n",
    "\n",
    "Expected result:\n",
    "\n",
    "GOOGLE COLAB"
   ]
  },
  {
   "cell_type": "code",
   "execution_count": 19,
   "id": "4ce3c056",
   "metadata": {},
   "outputs": [
    {
     "name": "stdout",
     "output_type": "stream",
     "text": [
      "GOOGLE COLAB\n"
     ]
    }
   ],
   "source": [
    "text = 'Google Colab'\n",
    "print(text.upper())"
   ]
  },
  {
   "cell_type": "markdown",
   "id": "45ae851a",
   "metadata": {},
   "source": [
    "**Exercise 9 The following text is given:**\n",
    "\n",
    "text = '  Google Colab   '\n",
    "\n",
    "Using the appropriate method remove whitespace characters around the text. Print the result to the console.\n",
    "\n",
    "Expected result:\n",
    "\n",
    "Google Colab\n"
   ]
  },
  {
   "cell_type": "code",
   "execution_count": 21,
   "id": "4c903384",
   "metadata": {},
   "outputs": [
    {
     "name": "stdout",
     "output_type": "stream",
     "text": [
      "Google Colab\n"
     ]
    }
   ],
   "source": [
    "text = ' Google Colab '\n",
    "print(text.strip())"
   ]
  },
  {
   "cell_type": "markdown",
   "id": "6389acb8",
   "metadata": {},
   "source": [
    "**Exercise 10 The following code is given:**\n",
    "\n",
    "code = 'FVNISJND-XX'\n",
    "\n",
    "Using the appropriate method replace the dash with a space. Print the result to the console.\n",
    "\n",
    "Expected result:\n",
    "\n",
    "FVNISJND XX"
   ]
  },
  {
   "cell_type": "code",
   "execution_count": 22,
   "id": "59579860",
   "metadata": {},
   "outputs": [
    {
     "name": "stdout",
     "output_type": "stream",
     "text": [
      "FVNISJND XX\n"
     ]
    }
   ],
   "source": [
    "code = 'FVNISJND-XX'\n",
    "print(code.replace('-',' '))"
   ]
  },
  {
   "cell_type": "markdown",
   "id": "5afb12b8",
   "metadata": {},
   "source": [
    "**Exercise 11 The following text is given:**\n",
    "\n",
    "text = '340-23-245-235'\n",
    "\n",
    "Using the appropriate method remove all dashes from the text. Print the result to the console.\n",
    "\n",
    "Expected result:\n",
    "\n",
    "34023245235\n"
   ]
  },
  {
   "cell_type": "code",
   "execution_count": 23,
   "id": "e5c83cf1",
   "metadata": {},
   "outputs": [
    {
     "name": "stdout",
     "output_type": "stream",
     "text": [
      "34023245235\n"
     ]
    }
   ],
   "source": [
    "text = '340-23-245-235'\n",
    "\n",
    "print(text.replace('-',''))"
   ]
  },
  {
   "cell_type": "markdown",
   "id": "d216e759",
   "metadata": {},
   "source": [
    "**Exercise 12 The following text is given:**\n",
    "\n",
    "text = 'Open,High,Low,Close'\n",
    "\n",
    "Using the appropriate method split the text by comma. Print the result as a list to the console as shown below.\n",
    "\n",
    "Expected result:\n",
    "\n",
    "['Open', 'High', 'Low', 'Close']\n"
   ]
  },
  {
   "cell_type": "code",
   "execution_count": 24,
   "id": "12bab135",
   "metadata": {},
   "outputs": [
    {
     "name": "stdout",
     "output_type": "stream",
     "text": [
      "['Open', 'High', 'Low', 'Close']\n"
     ]
    }
   ],
   "source": [
    "text = 'Open,High,Low,Close'\n",
    "\n",
    "print(text.split(','))"
   ]
  },
  {
   "cell_type": "markdown",
   "id": "5b8454fe",
   "metadata": {},
   "source": [
    "**Exercise 13 The following text is given:**\n",
    "\n",
    "text = \"\"\"Python is a general-purpose language.\n",
    "Python is popular.\"\"\"\n",
    "\n",
    "Using the appropriate method, split the text into sentences. Print the result as a list to the console.\n",
    "\n",
    "Expected result:\n",
    "\n",
    "['Python is a general-purpose language.', 'Python is popular.']"
   ]
  },
  {
   "cell_type": "code",
   "execution_count": 28,
   "id": "9b0ea5f8",
   "metadata": {},
   "outputs": [
    {
     "name": "stdout",
     "output_type": "stream",
     "text": [
      "['Python is a general-purpose language.', 'Python is popular.']\n"
     ]
    }
   ],
   "source": [
    "text = \"\"\"Python is a general-purpose language.\n",
    "Python is popular.\"\"\"\n",
    "print(text.splitlines())"
   ]
  },
  {
   "cell_type": "markdown",
   "id": "1bc38567",
   "metadata": {},
   "source": [
    "**Exercise 14 The following variable is given:**\n",
    "\n",
    "num = 34\n",
    "\n",
    "Using the appropriate method for an object of type str, print the variable num preceded by four zeros to the console as shown below.\n",
    "\n",
    "Expected result:\n",
    "\n",
    "000034\n"
   ]
  },
  {
   "cell_type": "code",
   "execution_count": 29,
   "id": "b90dc78d",
   "metadata": {},
   "outputs": [
    {
     "name": "stdout",
     "output_type": "stream",
     "text": [
      "000034\n"
     ]
    }
   ],
   "source": [
    "num = 34\n",
    "print('0'*4 + str(num))"
   ]
  },
  {
   "cell_type": "code",
   "execution_count": 32,
   "id": "bb4a3fa1",
   "metadata": {},
   "outputs": [
    {
     "name": "stdout",
     "output_type": "stream",
     "text": [
      "000034\n"
     ]
    }
   ],
   "source": [
    "num = 34\n",
    "print(str(num).zfill(6))"
   ]
  },
  {
   "cell_type": "markdown",
   "id": "d076153a",
   "metadata": {},
   "source": [
    "**Exercise 15 From the given url:**\n",
    "\n",
    "url = 'https://e-smartdata.teachable.com/p/sciezka-data-scientist-machine-learning-engineer'\n",
    "\n",
    "**extract the slug after the last character '/'. Then replace all dashes with spaces and print the result to the console as shown below.**\n",
    "\n",
    "Expected result:\n",
    "\n",
    "sciezka data scientist machine learning engineer\n"
   ]
  },
  {
   "cell_type": "code",
   "execution_count": 35,
   "id": "21708f17",
   "metadata": {},
   "outputs": [
    {
     "name": "stdout",
     "output_type": "stream",
     "text": [
      "sciezka data scientist machine learning engineer\n"
     ]
    }
   ],
   "source": [
    "url = 'https://e-smartdata.teachable.com/p/sciezka-data-scientist-machine-learning-engineer'\n",
    "\n",
    "name = url.split('/')[-1]\n",
    "\n",
    "name = name.replace('-',' ')\n",
    "\n",
    "print(name)"
   ]
  },
  {
   "cell_type": "code",
   "execution_count": null,
   "id": "fba90264",
   "metadata": {},
   "outputs": [],
   "source": []
  }
 ],
 "metadata": {
  "kernelspec": {
   "display_name": "Python 3 (ipykernel)",
   "language": "python",
   "name": "python3"
  },
  "language_info": {
   "codemirror_mode": {
    "name": "ipython",
    "version": 3
   },
   "file_extension": ".py",
   "mimetype": "text/x-python",
   "name": "python",
   "nbconvert_exporter": "python",
   "pygments_lexer": "ipython3",
   "version": "3.9.12"
  }
 },
 "nbformat": 4,
 "nbformat_minor": 5
}
