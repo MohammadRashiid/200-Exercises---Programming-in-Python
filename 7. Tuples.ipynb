{
 "cells": [
  {
   "cell_type": "markdown",
   "id": "eb92d676",
   "metadata": {},
   "source": [
    "**Exercise 1 Two following tuples are given:**\n",
    "\n",
    "dji1 = ('AAPL.US', 'IBM.US', 'MSFT.US')\n",
    "dji2 = ('HD.US', 'GS.US', 'NKE.US')\n",
    "\n",
    "Combine these tuples into one as shown below and print the result to the console.\n",
    "\n",
    "Expected result:\n",
    "\n",
    "('AAPL.US', 'IBM.US', 'MSFT.US', 'HD.US', 'GS.US', 'NKE.US')"
   ]
  },
  {
   "cell_type": "code",
   "execution_count": 2,
   "id": "6eb9e679",
   "metadata": {},
   "outputs": [
    {
     "name": "stdout",
     "output_type": "stream",
     "text": [
      "('AAPL.US', 'IBM.US', 'MSFT.US', 'HD.US', 'GS.US', 'NKE.US')\n"
     ]
    }
   ],
   "source": [
    "dji1 = ('AAPL.US', 'IBM.US', 'MSFT.US'); dji2 = ('HD.US', 'GS.US', 'NKE.US')\n",
    "\n",
    "print(dji1+dji2)"
   ]
  },
  {
   "cell_type": "markdown",
   "id": "ec2ffe15",
   "metadata": {},
   "source": [
    "**Exercise 2 The following tuples are given:**\n",
    "\n",
    "dji1 = ('AAPL.US', 'IBM.US', 'MSFT.US')\n",
    "dji2 = ('HD.US', 'GS.US', 'NKE.US')\n",
    "\n",
    "Nest these tuples into one tuple as shown below and print the result to the console.\n",
    "\n",
    "Expected result:\n",
    "\n",
    "(('AAPL.US', 'IBM.US', 'MSFT.US'), ('HD.US', 'GS.US', 'NKE.US'))\n"
   ]
  },
  {
   "cell_type": "code",
   "execution_count": 4,
   "id": "bf88f798",
   "metadata": {},
   "outputs": [
    {
     "name": "stdout",
     "output_type": "stream",
     "text": [
      "(('AAPL.US', 'IBM.US', 'MSFT.US'), ('HD.US', 'GS.US', 'NKE.US'))\n"
     ]
    }
   ],
   "source": [
    "dji1 = ('AAPL.US', 'IBM.US', 'MSFT.US'); dji2 = ('HD.US', 'GS.US', 'NKE.US')\n",
    "\n",
    "result = (dji1,dji2)\n",
    "print(result)"
   ]
  },
  {
   "cell_type": "markdown",
   "id": "35398325",
   "metadata": {},
   "source": [
    "**Exercise 3 Tuples are immutable. The following tuple is given:**\n",
    "\n",
    "members = (('Kate', 23), ('Tom', 19))\n",
    "\n",
    "Insert a tuple ('John', 26) between Kate and Tom as shown below. Print the result to the console.\n",
    "\n",
    "Tip: You have to create a new tuple.\n",
    "\n",
    "Expected result:\n",
    "\n",
    "(('Kate', 23), ('John', 26), ('Tom', 19))"
   ]
  },
  {
   "cell_type": "code",
   "execution_count": 7,
   "id": "e1fd62ba",
   "metadata": {},
   "outputs": [
    {
     "name": "stdout",
     "output_type": "stream",
     "text": [
      "(('Kate', 23), ('John', 26), ('Tom', 19))\n"
     ]
    }
   ],
   "source": [
    "members = (('Kate', 23), ('Tom', 19))\n",
    "\n",
    "members = (members[0],('John',26),members[1])\n",
    "\n",
    "print(members)"
   ]
  },
  {
   "cell_type": "markdown",
   "id": "10f5cd9e",
   "metadata": {},
   "source": [
    "**Exercise 4 The following tuple is given:**\n",
    "\n",
    "default = ('YES', 'NO', 'NO', 'YES', 'NO')\n",
    "\n",
    "Using the appropriate method return the number of occurrences of the string 'YES' and print the result to the console as shown below.\n",
    "\n",
    "Expected result:\n",
    "\n",
    "Number of occurrences: 2\n"
   ]
  },
  {
   "cell_type": "code",
   "execution_count": 13,
   "id": "c7040df9",
   "metadata": {},
   "outputs": [
    {
     "name": "stdout",
     "output_type": "stream",
     "text": [
      "Number of occurrences: 2\n"
     ]
    }
   ],
   "source": [
    "default = ('YES', 'NO', 'NO', 'YES', 'NO')\n",
    "\n",
    "print(f\"Number of occurrences: {default.count('YES')}\")"
   ]
  },
  {
   "cell_type": "markdown",
   "id": "52915841",
   "metadata": {},
   "source": [
    "**Exercise 5 Sort the given tuple (from A to Z):**\n",
    "\n",
    "names = ('Monica', 'Tom', 'John', 'Michael')\n",
    "\n",
    "Print the sorted tuple to the console as shown below.\n",
    "\n",
    "Expected result:\n",
    "\n",
    "('John', 'Michael', 'Monica', 'Tom')"
   ]
  },
  {
   "cell_type": "code",
   "execution_count": 27,
   "id": "b9bf2cfd",
   "metadata": {},
   "outputs": [
    {
     "name": "stdout",
     "output_type": "stream",
     "text": [
      "('John', 'Michael', 'Monica', 'Tom')\n"
     ]
    }
   ],
   "source": [
    "names = ('Monica', 'Tom', 'John', 'Michael')\n",
    "\n",
    "sorted_names = tuple(sorted(names))\n",
    "\n",
    "print(sorted_names)"
   ]
  },
  {
   "cell_type": "markdown",
   "id": "7216a1ea",
   "metadata": {},
   "source": [
    "**Exercise 6 The following tuple is given (name, age):**\n",
    "\n",
    "info = (('Monica', 19), ('Tom', 21), ('John', 18))\n",
    "\n",
    "Sort this tuple:\n",
    "\n",
    "ascending by age\n",
    "\n",
    "descending by age\n",
    "\n",
    "And print the result to the console as shown below.\n",
    "\n",
    "Expected result:\n",
    "\n",
    "Ascending: (('John', 18), ('Monica', 19), ('Tom', 21))\n",
    "Descending: (('Tom', 21), ('Monica', 19), ('John', 18))"
   ]
  },
  {
   "cell_type": "code",
   "execution_count": 33,
   "id": "a4f0aef6",
   "metadata": {},
   "outputs": [
    {
     "name": "stdout",
     "output_type": "stream",
     "text": [
      "Ascending: (('John', 18), ('Monica', 19), ('Tom', 21))\n",
      "Descending: (('Tom', 21), ('Monica', 19), ('John', 18))\n"
     ]
    }
   ],
   "source": [
    "info = (('Monica', 19), ('Tom', 21), ('John', 18))\n",
    "\n",
    "asc = tuple(sorted(info, key=lambda item: item[1])) \n",
    "dsc = tuple(sorted(info, key=lambda item: item[1], reverse=True))\n",
    "#sorted() returns list of objects\n",
    "\n",
    "print(f\"Ascending: {asc}\")\n",
    "print(f\"Descending: {dsc}\")"
   ]
  },
  {
   "cell_type": "markdown",
   "id": "185db4df",
   "metadata": {},
   "source": [
    "**Exercise 7 The following tuple is given:**\n",
    "\n",
    "stocks = (\n",
    "    ('Apple Inc', ('AAPL.US', 310)),\n",
    "    ('Microsoft Corp', ('MSFT.US', 184)),\n",
    ")\n",
    "\n",
    "Extract a ticker for Apple and print the result to the console.\n",
    "\n",
    "Expected result:\n",
    "\n",
    "AAPL.US\n"
   ]
  },
  {
   "cell_type": "code",
   "execution_count": 36,
   "id": "c6b5c428",
   "metadata": {},
   "outputs": [
    {
     "name": "stdout",
     "output_type": "stream",
     "text": [
      "AAPL.US\n"
     ]
    }
   ],
   "source": [
    "stocks = ( ('Apple Inc', ('AAPL.US', 310)), ('Microsoft Corp', ('MSFT.US', 184)), )\n",
    "\n",
    "print(stocks[0][1][0]) "
   ]
  },
  {
   "cell_type": "code",
   "execution_count": null,
   "id": "90e67465",
   "metadata": {},
   "outputs": [],
   "source": []
  }
 ],
 "metadata": {
  "kernelspec": {
   "display_name": "Python 3 (ipykernel)",
   "language": "python",
   "name": "python3"
  },
  "language_info": {
   "codemirror_mode": {
    "name": "ipython",
    "version": 3
   },
   "file_extension": ".py",
   "mimetype": "text/x-python",
   "name": "python",
   "nbconvert_exporter": "python",
   "pygments_lexer": "ipython3",
   "version": "3.9.12"
  }
 },
 "nbformat": 4,
 "nbformat_minor": 5
}
