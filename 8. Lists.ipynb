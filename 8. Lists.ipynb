{
 "cells": [
  {
   "cell_type": "markdown",
   "id": "b7596180",
   "metadata": {},
   "source": [
    "**Exercise 1 To the given list:**\n",
    "\n",
    "cities = ['Los Angeles', 'New York', 'Chicago']\n",
    "\n",
    "append the city: 'Houston' and print the list to the console.\n",
    "\n",
    "Expected result:\n",
    "\n",
    "['Los Angeles', 'New York', 'Chicago', 'Houston']"
   ]
  },
  {
   "cell_type": "code",
   "execution_count": 1,
   "id": "11add800",
   "metadata": {},
   "outputs": [
    {
     "name": "stdout",
     "output_type": "stream",
     "text": [
      "['Los Angeles', 'New York', 'Chicago', 'Houston']\n"
     ]
    }
   ],
   "source": [
    "cities = ['Los Angeles', 'New York', 'Chicago']\n",
    "\n",
    "cities.append('Houston')\n",
    "\n",
    "print(cities)"
   ]
  },
  {
   "cell_type": "markdown",
   "id": "d8dc4bcf",
   "metadata": {},
   "source": [
    "**Exercise 2 The following list is given:**\n",
    "\n",
    "idx = ['001', '002', '001', '003', '001']\n",
    "\n",
    "Using the appropriate method count the occurrences of '001'. Print the result to the console as shown below.\n",
    "\n",
    "Expected result:\n",
    "\n",
    "Number of occurrences: 3"
   ]
  },
  {
   "cell_type": "code",
   "execution_count": 3,
   "id": "cfac9fce",
   "metadata": {},
   "outputs": [
    {
     "name": "stdout",
     "output_type": "stream",
     "text": [
      "Number of occurrences: 3\n"
     ]
    }
   ],
   "source": [
    "idx = ['001', '002', '001', '003', '001']\n",
    "\n",
    "print(f\"Number of occurrences: {idx.count('001')}\")"
   ]
  },
  {
   "cell_type": "markdown",
   "id": "cfc5d2ed",
   "metadata": {},
   "source": [
    "**Exercise 3 The following text is given:**\n",
    "\n",
    "text = 'Python programming'\n",
    "\n",
    "Standardize the text (replace uppercase letters with lowercase). Then create a list of unique characters in the text. Remove the space from this list and sort from a to z. After all print the list to the console.\n",
    "\n",
    "Tip: You can use a set to generate unique characters.\n",
    "\n",
    "Expected result:\n",
    "\n",
    "['a', 'g', 'h', 'i', 'm', 'n', 'o', 'p', 'r', 't', 'y']"
   ]
  },
  {
   "cell_type": "code",
   "execution_count": 11,
   "id": "7ad79592",
   "metadata": {},
   "outputs": [
    {
     "name": "stdout",
     "output_type": "stream",
     "text": [
      "['a', 'g', 'h', 'i', 'm', 'n', 'o', 'p', 'r', 't', 'y']\n"
     ]
    }
   ],
   "source": [
    "text = 'Python programming'\n",
    "l1 = list(set(text.lower()))\n",
    "l1.remove(' ')\n",
    "#l1 = list(lowertext)\n",
    "print(sorted(l1))"
   ]
  },
  {
   "cell_type": "markdown",
   "id": "cfc6d9f9",
   "metadata": {},
   "source": [
    "**Exercise 4 The following list is given:**\n",
    "\n",
    "filenames = ['view.jpg', 'bear.jpg', 'ball.png']\n",
    "\n",
    "Add the file 'phone.jpg' to this list at the beginning. Then delete the file 'ball.png'. In response, print the filenames list to the console.\n",
    "\n",
    "Expected result:\n",
    "\n",
    "['phone.jpg', 'view.jpg', 'bear.jpg']"
   ]
  },
  {
   "cell_type": "code",
   "execution_count": 12,
   "id": "a76a582c",
   "metadata": {},
   "outputs": [
    {
     "name": "stdout",
     "output_type": "stream",
     "text": [
      "['phone.jpg', 'view.jpg', 'bear.jpg']\n"
     ]
    }
   ],
   "source": [
    "filenames = ['view.jpg', 'bear.jpg', 'ball.png']\n",
    "\n",
    "filenames.insert(0,'phone.jpg')\n",
    "\n",
    "filenames.remove('ball.png')\n",
    "\n",
    "print(filenames)"
   ]
  },
  {
   "cell_type": "markdown",
   "id": "12afb6a7",
   "metadata": {},
   "source": [
    "**Exercise 5 The following list represents order ids for a given day:**\n",
    "\n",
    "day1 = ['3984', '9042', '4829', '2380']\n",
    "\n",
    "Using the appropriate method, extend this list to the next day:\n",
    "\n",
    "day2 = ['4231', '5234', '1345', '2455']\n",
    "\n",
    "Print the result to the console.\n",
    "\n",
    "Expected result:\n",
    "\n",
    "['3984', '9042', '4829', '2380', '4231', '5234', '1345', '2455']"
   ]
  },
  {
   "cell_type": "code",
   "execution_count": 16,
   "id": "220e07c5",
   "metadata": {},
   "outputs": [
    {
     "name": "stdout",
     "output_type": "stream",
     "text": [
      "['3984', '9042', '4829', '2380', '4231', '5234', '1345', '2455']\n"
     ]
    }
   ],
   "source": [
    "day1 = ['3984', '9042', '4829', '2380']\n",
    "\n",
    "day2 = ['4231', '5234', '1345', '2455']\n",
    "\n",
    "day1.extend(day2)\n",
    "\n",
    "print(day1)"
   ]
  },
  {
   "cell_type": "markdown",
   "id": "0c13fd4a",
   "metadata": {},
   "source": [
    "**Exercise 6 The following tuple is given:**\n",
    "\n",
    "techs = ('python', 'java', 'sql', 'aws')\n",
    "\n",
    "Sort this tuple from a to z and print it to the console.\n",
    "\n",
    "Tip: Tuples are immutable. You have to create a new one.\n",
    "\n",
    "Expected result:\n",
    "\n",
    "('aws', 'java', 'python', 'sql')"
   ]
  },
  {
   "cell_type": "code",
   "execution_count": 18,
   "id": "aeb07589",
   "metadata": {},
   "outputs": [
    {
     "name": "stdout",
     "output_type": "stream",
     "text": [
      "('aws', 'java', 'python', 'sql')\n"
     ]
    }
   ],
   "source": [
    "techs = ('python', 'java', 'sql', 'aws')\n",
    "\n",
    "techs = tuple(sorted(techs))\n",
    "\n",
    "print(techs)"
   ]
  },
  {
   "cell_type": "markdown",
   "id": "1cbfede6",
   "metadata": {},
   "source": [
    "**Exercise 7 The following list is given:**\n",
    "\n",
    "hashtags = ['summer', 'time', 'vibes']\n",
    "\n",
    "Using the appropriate method, combine the elements of the list with the '#' character. Also add this sign to the beginning of the text and print the result to the console as shown below.\n",
    "\n",
    "Expected result:\n",
    "\n",
    "'#summer#time#vibes'"
   ]
  },
  {
   "cell_type": "code",
   "execution_count": 23,
   "id": "d7009f1f",
   "metadata": {},
   "outputs": [
    {
     "name": "stdout",
     "output_type": "stream",
     "text": [
      "#summer#time#vibes\n"
     ]
    }
   ],
   "source": [
    "hashtags = ['summer', 'time', 'vibes']\n",
    "\n",
    "print('#' + '#'.join(hashtags))"
   ]
  },
  {
   "cell_type": "code",
   "execution_count": null,
   "id": "53496261",
   "metadata": {},
   "outputs": [],
   "source": []
  }
 ],
 "metadata": {
  "kernelspec": {
   "display_name": "Python 3 (ipykernel)",
   "language": "python",
   "name": "python3"
  },
  "language_info": {
   "codemirror_mode": {
    "name": "ipython",
    "version": 3
   },
   "file_extension": ".py",
   "mimetype": "text/x-python",
   "name": "python",
   "nbconvert_exporter": "python",
   "pygments_lexer": "ipython3",
   "version": "3.9.12"
  }
 },
 "nbformat": 4,
 "nbformat_minor": 5
}
