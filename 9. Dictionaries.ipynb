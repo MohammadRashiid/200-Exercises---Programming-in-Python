{
 "cells": [
  {
   "cell_type": "markdown",
   "id": "f117134e",
   "metadata": {},
   "source": [
    "**Exercise 1 Create a dictionary from the following pairs (key, value):*\n",
    "\n",
    "'USA': 'Washington'\n",
    "'Germany': 'Berlin'\n",
    "'Austria': 'Vienna'\n",
    "\n",
    "and print it to the console.\n",
    "\n",
    "Expected result:\n",
    "\n",
    "{'USA': 'Washington', 'Germany': 'Berlin', 'Austria': 'Vienna'}"
   ]
  },
  {
   "cell_type": "code",
   "execution_count": 2,
   "id": "31996650",
   "metadata": {},
   "outputs": [
    {
     "name": "stdout",
     "output_type": "stream",
     "text": [
      "{'USA': 'Washington', 'Germany': 'Berlin', 'Austria': 'Vienna'}\n"
     ]
    }
   ],
   "source": [
    "d1 = {'USA': 'Washington', 'Germany': 'Berlin', 'Austria': 'Vienna'}\n",
    "\n",
    "print(d1)"
   ]
  },
  {
   "cell_type": "markdown",
   "id": "c44261ed",
   "metadata": {},
   "source": [
    "**Exercise 2 The following dictionary is given:**\n",
    "\n",
    "capitals = {\n",
    "    'USA': 'Washington',\n",
    "    'Germany': 'Berlin',\n",
    "    'Austria': 'Vienna'\n",
    "}\n",
    "\n",
    "Use the appropriate method to extract all keys from the capitals dictionary and print to the console.\n",
    "\n",
    "Expected result:\n",
    "\n",
    "dict_keys(['USA', 'Germany', 'Austria'])"
   ]
  },
  {
   "cell_type": "code",
   "execution_count": 3,
   "id": "9c58d448",
   "metadata": {},
   "outputs": [
    {
     "name": "stdout",
     "output_type": "stream",
     "text": [
      "dict_keys(['USA', 'Germany', 'Austria'])\n"
     ]
    }
   ],
   "source": [
    "capitals = {\n",
    "    'USA': 'Washington',\n",
    "    'Germany': 'Berlin',\n",
    "    'Austria': 'Vienna'\n",
    "}\n",
    "\n",
    "print(capitals.keys())"
   ]
  },
  {
   "cell_type": "markdown",
   "id": "039d9592",
   "metadata": {},
   "source": [
    "**Exercise 3 The following dictionary is given:**\n",
    "\n",
    "capitals = {\n",
    "    'USA': 'Washington',\n",
    "    'Germany': 'Berlin',\n",
    "    'Austria': 'Vienna'\n",
    "}\n",
    "\n",
    "Use the appropriate method to extract all values from the capitals dictionary and print to the console.\n",
    "\n",
    "Expected result:\n",
    "\n",
    "dict_values(['Washington', 'Berlin', 'Vienna'])"
   ]
  },
  {
   "cell_type": "code",
   "execution_count": 4,
   "id": "2f2f3b28",
   "metadata": {},
   "outputs": [
    {
     "name": "stdout",
     "output_type": "stream",
     "text": [
      "dict_values(['Washington', 'Berlin', 'Vienna'])\n"
     ]
    }
   ],
   "source": [
    "capitals = { 'USA': 'Washington', 'Germany': 'Berlin', 'Austria': 'Vienna' }\n",
    "\n",
    "print(capitals.values())"
   ]
  },
  {
   "cell_type": "markdown",
   "id": "f8a767f5",
   "metadata": {},
   "source": [
    "**Exercise 4 The following dictionary is given:**\n",
    "\n",
    "capitals = {\n",
    "    'USA': 'Washington',\n",
    "    'Germany': 'Berlin',\n",
    "    'Austria': 'Vienna'\n",
    "}\n",
    "\n",
    "Using the appropriate method, extract the list containing tuple objects (key, value) from the capitals dictionary and print to the console as shown below.\n",
    "\n",
    "Expected result:\n",
    "\n",
    "dict_items([('USA', 'Washington'), ('Germany', 'Berlin'), ('Austria', 'Vienna')])\n"
   ]
  },
  {
   "cell_type": "code",
   "execution_count": 6,
   "id": "33d0c188",
   "metadata": {},
   "outputs": [
    {
     "name": "stdout",
     "output_type": "stream",
     "text": [
      "dict_items([('USA', 'Washington'), ('Germany', 'Berlin'), ('Austria', 'Vienna')])\n"
     ]
    }
   ],
   "source": [
    "capitals = { 'USA': 'Washington', 'Germany': 'Berlin', 'Austria': 'Vienna' }\n",
    "\n",
    "print(capitals.items())    "
   ]
  },
  {
   "cell_type": "markdown",
   "id": "4bc7f73a",
   "metadata": {},
   "source": [
    "**Exercise 5 The following dictionary is given:**\n",
    "\n",
    "capitals = {\n",
    "    'USA': 'Washington',\n",
    "    'Germany': 'Berlin',\n",
    "    'Austria': 'Vienna'\n",
    "}\n",
    "\n",
    "Using the dict.get() method, extract the value for the key 'Austria' and print it to the console.\n",
    "\n",
    "Expected result:\n",
    "\n",
    "Vienna\n"
   ]
  },
  {
   "cell_type": "code",
   "execution_count": 8,
   "id": "e4aeb4ce",
   "metadata": {},
   "outputs": [
    {
     "name": "stdout",
     "output_type": "stream",
     "text": [
      "Vienna\n"
     ]
    }
   ],
   "source": [
    "capitals = { 'USA': 'Washington', 'Germany': 'Berlin', 'Austria': 'Vienna' }\n",
    "\n",
    "print(capitals.get('Austria'))"
   ]
  },
  {
   "cell_type": "markdown",
   "id": "08b263d2",
   "metadata": {},
   "source": [
    "**Exercise 6 The following dictionary is given:**\n",
    "\n",
    "stocks = {\n",
    "    'MSFT.US': {'Microsoft Corp': 184},\n",
    "    'AAPL.US': {'Apple Inc': 310},\n",
    "    'MMM.US': {'3M Co': 148}\n",
    "}\n",
    "\n",
    "Extract the value for the key 'AAPL.US' and print it to the console.\n",
    "\n",
    "Expected result:\n",
    "\n",
    "{'Apple Inc': 310}"
   ]
  },
  {
   "cell_type": "code",
   "execution_count": 9,
   "id": "0a86bca6",
   "metadata": {},
   "outputs": [
    {
     "name": "stdout",
     "output_type": "stream",
     "text": [
      "{'Apple Inc': 310}\n"
     ]
    }
   ],
   "source": [
    "stocks = {\n",
    "    'MSFT.US': {'Microsoft Corp': 184},\n",
    "    'AAPL.US': {'Apple Inc': 310},\n",
    "    'MMM.US': {'3M Co': 148}\n",
    "}\n",
    "\n",
    "print(stocks['AAPL.US'])"
   ]
  },
  {
   "cell_type": "markdown",
   "id": "c35e4c3a",
   "metadata": {},
   "source": [
    "**Exercise 7 The following dictionary is given:**\n",
    "\n",
    "stocks = {\n",
    "    'MSFT.US': {'Microsoft Corp': 184},\n",
    "    'AAPL.US': {'Apple Inc': 310},\n",
    "    'MMM.US': {'3M Co': 148}\n",
    "}\n",
    "\n",
    "Get the price for Microsoft (value for the 'Microsoft Corp' key) and print it to the console.\n",
    "\n",
    "Expected result:\n",
    "\n",
    "184\n"
   ]
  },
  {
   "cell_type": "code",
   "execution_count": 10,
   "id": "f6fa085b",
   "metadata": {},
   "outputs": [
    {
     "name": "stdout",
     "output_type": "stream",
     "text": [
      "184\n"
     ]
    }
   ],
   "source": [
    "stocks = {\n",
    "    'MSFT.US': {'Microsoft Corp': 184},\n",
    "    'AAPL.US': {'Apple Inc': 310},\n",
    "    'MMM.US': {'3M Co': 148}\n",
    "}\n",
    "\n",
    "print(stocks['MSFT.US']['Microsoft Corp'])"
   ]
  },
  {
   "cell_type": "markdown",
   "id": "6b35eb82",
   "metadata": {},
   "source": [
    "**Exercise 8 The following dictionary is given:**\n",
    "\n",
    "stocks = {\n",
    "    'MSFT.US': {'Microsoft Corp': 184},\n",
    "    'AAPL.US': {'Apple Inc': 310},\n",
    "    'MMM.US': {'3M Co': 148}\n",
    "}\n",
    "\n",
    "Update the price for Microsoft to 190 and print the value for the 'MSFT.US' key to the console.\n",
    "\n",
    "Expected result:\n",
    "\n",
    "{'Microsoft Corp': 190}\n"
   ]
  },
  {
   "cell_type": "code",
   "execution_count": 11,
   "id": "c5157080",
   "metadata": {},
   "outputs": [
    {
     "name": "stdout",
     "output_type": "stream",
     "text": [
      "{'Microsoft Corp': 190}\n"
     ]
    }
   ],
   "source": [
    "stocks = { 'MSFT.US': {'Microsoft Corp': 184}, 'AAPL.US': {'Apple Inc': 310}, 'MMM.US': {'3M Co': 148} }\n",
    "\n",
    "stocks['MSFT.US']['Microsoft Corp'] = 190\n",
    "\n",
    "print(stocks['MSFT.US'])"
   ]
  },
  {
   "cell_type": "markdown",
   "id": "aee652a9",
   "metadata": {},
   "source": [
    "**Exercise 9 The following dictionary is given:**\n",
    "\n",
    "stocks = {\n",
    "    'MSFT.US': {'Microsoft Corp': 184},\n",
    "    'AAPL.US': {'Apple Inc': 310},\n",
    "    'MMM.US': {'3M Co': 148}\n",
    "}\n",
    "\n",
    "Add a fourth pair to this dictionary with the key 'V.US' and the value: {'Visa Inc': 185}. Print the values of the stocks dictionary to the console.\n",
    "\n",
    "Expected result:\n",
    "\n",
    "dict_values([{'Microsoft Corp': 184}, {'Apple Inc': 310}, {'3M Co': 148}, {'Visa Inc': 185}])"
   ]
  },
  {
   "cell_type": "code",
   "execution_count": 14,
   "id": "f242d711",
   "metadata": {},
   "outputs": [
    {
     "name": "stdout",
     "output_type": "stream",
     "text": [
      "dict_values([{'Microsoft Corp': 184}, {'Apple Inc': 310}, {'3M Co': 148}, {'Visa Inc': 185}])\n"
     ]
    }
   ],
   "source": [
    "stocks = {\n",
    "    'MSFT.US': {'Microsoft Corp': 184},\n",
    "    'AAPL.US': {'Apple Inc': 310},\n",
    "    'MMM.US': {'3M Co': 148}\n",
    "}\n",
    "\n",
    "stocks['V.US']={'Visa Inc': 185}\n",
    "\n",
    "print(stocks.values())"
   ]
  },
  {
   "cell_type": "markdown",
   "id": "36bfcc4c",
   "metadata": {},
   "source": [
    "**Exercise 10 A list of tickers from the Dow Jones index is given:**\n",
    "\n",
    "tickers = [\n",
    "    'AAPL.US', 'AXP.US', 'BA.US', 'CAT.US',\n",
    "    'CSCO.US', 'CVX.US', 'DIS.US', 'DOW.US',\n",
    "    'GS.US', 'HD.US', 'IBM.US', 'INTC.US'\n",
    "]\n",
    "\n",
    "Transform this list into a list of two-element tuple objects (index, ticker) and print it to the console.\n",
    "\n",
    "Formatted result for better view:\n",
    "\n",
    "[(0, 'AAPL.US'),\n",
    " (1, 'AXP.US'),\n",
    " (2, 'BA.US'),\n",
    " (3, 'CAT.US'),\n",
    " (4, 'CSCO.US'),\n",
    " (5, 'CVX.US'),\n",
    " (6, 'DIS.US'),\n",
    " (7, 'DOW.US'),\n",
    " (8, 'GS.US'),\n",
    " (9, 'HD.US'),\n",
    " (10, 'IBM.US'),\n",
    " (11, 'INTC.US')]\n",
    "\n",
    "Expected result:\n",
    "[(0, 'AAPL.US'), (1, 'AXP.US'), (2, 'BA.US'), (3, 'CAT.US'), (4, 'CSCO.US'), (5, 'CVX.US'), (6, 'DIS.US'), (7, 'DOW.US'), (8, 'GS.US'), (9, 'HD.US'), (10, 'IBM.US'), (11, 'INTC.US')]"
   ]
  },
  {
   "cell_type": "code",
   "execution_count": 16,
   "id": "996424e8",
   "metadata": {},
   "outputs": [
    {
     "name": "stdout",
     "output_type": "stream",
     "text": [
      "[(0, 'AAPL.US'), (1, 'AXP.US'), (2, 'BA.US'), (3, 'CAT.US'), (4, 'CSCO.US'), (5, 'CVX.US'), (6, 'DIS.US'), (7, 'DOW.US'), (8, 'GS.US'), (9, 'HD.US'), (10, 'IBM.US'), (11, 'INTC.US')]\n"
     ]
    }
   ],
   "source": [
    "tickers = [ 'AAPL.US', 'AXP.US', 'BA.US', 'CAT.US', 'CSCO.US', 'CVX.US', 'DIS.US', 'DOW.US', 'GS.US', 'HD.US', 'IBM.US', 'INTC.US' ]\n",
    "\n",
    "tickers = list(enumerate(tickers))  #enumerate returns tuple of objects\n",
    "\n",
    "print(tickers)\n"
   ]
  },
  {
   "cell_type": "markdown",
   "id": "79d5ac95",
   "metadata": {},
   "source": [
    "**Exercise 11 A list of tickers from the Dow Jones index is given:**\n",
    "\n",
    "tickers = [\n",
    "    'AAPL.US', 'AXP.US', 'BA.US', 'CAT.US',\n",
    "    'CSCO.US', 'CVX.US', 'DIS.US', 'DOW.US',\n",
    "    'GS.US', 'HD.US', 'IBM.US', 'INTC.US'\n",
    "]\n",
    "\n",
    "Transform this list into a dictionary (index, ticker) and print it to the console.\n",
    "\n",
    "Formatted result for better view:\n",
    "\n",
    "{0: 'AAPL.US',\n",
    " 1: 'AXP.US',\n",
    " 2: 'BA.US',\n",
    " 3: 'CAT.US',\n",
    " 4: 'CSCO.US',\n",
    " 5: 'CVX.US',\n",
    " 6: 'DIS.US',\n",
    " 7: 'DOW.US',\n",
    " 8: 'GS.US',\n",
    " 9: 'HD.US',\n",
    " 10: 'IBM.US',\n",
    " 11: 'INTC.US'}\n",
    "\n",
    "Expected result:\n",
    "\n",
    "{0: 'AAPL.US', 1: 'AXP.US', 2: 'BA.US', 3: 'CAT.US', 4: 'CSCO.US', 5: 'CVX.US', 6: 'DIS.US', 7: 'DOW.US', 8: 'GS.US', 9: 'HD.US', 10: 'IBM.US', 11: 'INTC.US'}"
   ]
  },
  {
   "cell_type": "code",
   "execution_count": 17,
   "id": "c6352e77",
   "metadata": {},
   "outputs": [
    {
     "name": "stdout",
     "output_type": "stream",
     "text": [
      "{0: 'AAPL.US', 1: 'AXP.US', 2: 'BA.US', 3: 'CAT.US', 4: 'CSCO.US', 5: 'CVX.US', 6: 'DIS.US', 7: 'DOW.US', 8: 'GS.US', 9: 'HD.US', 10: 'IBM.US', 11: 'INTC.US'}\n"
     ]
    }
   ],
   "source": [
    "tickers = [ 'AAPL.US', 'AXP.US', 'BA.US', 'CAT.US', 'CSCO.US', 'CVX.US', 'DIS.US', 'DOW.US', 'GS.US', 'HD.US', 'IBM.US', 'INTC.US' ]\n",
    "\n",
    "mydict = dict(enumerate(tickers))\n",
    "\n",
    "print(mydict)"
   ]
  },
  {
   "cell_type": "markdown",
   "id": "f15d9fcb",
   "metadata": {},
   "source": [
    "**Exercise 12 The following dictionary is given:**\n",
    "\n",
    "project_ids = {\n",
    "    '01': 'open', \n",
    "    '03': 'in progress',\n",
    "    '05': 'in progress',\n",
    "    '04': 'completed'\n",
    "}\n",
    "\n",
    "Extract a list of unique values (sorted alphabetically) from the project_ids dictionary and print it to the console.\n",
    "\n",
    "Expected result:\n",
    "\n",
    "['completed', 'in progress', 'open']\n"
   ]
  },
  {
   "cell_type": "code",
   "execution_count": 21,
   "id": "8f1da22e",
   "metadata": {},
   "outputs": [
    {
     "name": "stdout",
     "output_type": "stream",
     "text": [
      "['completed', 'in progress', 'open']\n"
     ]
    }
   ],
   "source": [
    "project_ids = { '01': 'open', '03': 'in progress', '05': 'in progress', '04': 'completed' }\n",
    "\n",
    "values = list(sorted(set(project_ids.values())))\n",
    "\n",
    "print(values)"
   ]
  },
  {
   "cell_type": "markdown",
   "id": "09f4c51b",
   "metadata": {},
   "source": [
    "**Exercise 13 The following dictionary is given:**\n",
    "\n",
    "stats = {'site': 'e-smartdata.org', 'traffic': 100, 'type': 'organic'}\n",
    "\n",
    "Delete the 'traffic' key pair from this dictionary and print it to the console.\n",
    "\n",
    "Expected result:\n",
    "\n",
    "{'site': 'e-smartdata.org', 'type': 'organic'}"
   ]
  },
  {
   "cell_type": "code",
   "execution_count": 22,
   "id": "007db919",
   "metadata": {},
   "outputs": [
    {
     "name": "stdout",
     "output_type": "stream",
     "text": [
      "{'site': 'e-smartdata.org', 'type': 'organic'}\n"
     ]
    }
   ],
   "source": [
    "stats = {'site': 'e-smartdata.org', 'traffic': 100, 'type': 'organic'}\n",
    "\n",
    "stats.pop('traffic')\n",
    "\n",
    "print(stats)"
   ]
  },
  {
   "cell_type": "code",
   "execution_count": 23,
   "id": "97a5164d",
   "metadata": {},
   "outputs": [
    {
     "name": "stdout",
     "output_type": "stream",
     "text": [
      "{'site': 'e-smartdata.org', 'type': 'organic'}\n"
     ]
    }
   ],
   "source": [
    "#copied\n",
    "stats = {'site': 'e-smartdata.org', 'traffic': 100, 'type': 'organic'}\n",
    "del stats['traffic']\n",
    "print(stats)"
   ]
  },
  {
   "cell_type": "markdown",
   "id": "003a9347",
   "metadata": {},
   "source": [
    "**Exercise 14 The following dictionary is given:**\n",
    "\n",
    "users = {'001': 'Mark', '002': 'Monica', '003': 'Jacob'}\n",
    "\n",
    "Try to print value for key '004'.\n",
    "\n",
    "In this exercise use the dict.get() method. When the key is not in the dictionary set default value to the string 'indefinite'.\n",
    "\n",
    "Expected result:\n",
    "\n",
    "'indefinite'"
   ]
  },
  {
   "cell_type": "code",
   "execution_count": 26,
   "id": "1b8b5b93",
   "metadata": {},
   "outputs": [
    {
     "name": "stdout",
     "output_type": "stream",
     "text": [
      "indefinite\n"
     ]
    }
   ],
   "source": [
    "users = {'001': 'Mark', '002': 'Monica', '003': 'Jacob'}\n",
    "\n",
    "print(users.get('004', 'indefinite'))"
   ]
  },
  {
   "cell_type": "code",
   "execution_count": 28,
   "id": "cfe35d43",
   "metadata": {},
   "outputs": [
    {
     "name": "stdout",
     "output_type": "stream",
     "text": [
      "Me\n"
     ]
    }
   ],
   "source": [
    "#testing \n",
    "users = {'001': 'Mark', '002': 'Monica', '003': 'Jacob', '004':'Me'}\n",
    "\n",
    "print(users.get('004', 'indefinite'))"
   ]
  },
  {
   "cell_type": "code",
   "execution_count": null,
   "id": "65123b5b",
   "metadata": {},
   "outputs": [],
   "source": []
  }
 ],
 "metadata": {
  "kernelspec": {
   "display_name": "Python 3 (ipykernel)",
   "language": "python",
   "name": "python3"
  },
  "language_info": {
   "codemirror_mode": {
    "name": "ipython",
    "version": 3
   },
   "file_extension": ".py",
   "mimetype": "text/x-python",
   "name": "python",
   "nbconvert_exporter": "python",
   "pygments_lexer": "ipython3",
   "version": "3.9.12"
  }
 },
 "nbformat": 4,
 "nbformat_minor": 5
}
