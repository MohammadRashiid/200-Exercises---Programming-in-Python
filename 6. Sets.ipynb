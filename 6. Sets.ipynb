{
 "cells": [
  {
   "cell_type": "markdown",
   "id": "782c381f",
   "metadata": {},
   "source": [
    "**Exercise 1 The following set is given:**\n",
    "\n",
    "subjects = {'mathematics', 'biology'}\n",
    "\n",
    "**Using the appropriate method add 'english' to this set. In response print subjects set to the console.**\n",
    "\n",
    "Expected result:\n",
    "\n",
    "{'biology', 'mathematics', 'english'}\n",
    "\n",
    "\n",
    "Note: Remember that the set is an unordered data structure. You may get a different order of items than the expected result."
   ]
  },
  {
   "cell_type": "code",
   "execution_count": 1,
   "id": "3361f0a5",
   "metadata": {},
   "outputs": [
    {
     "name": "stdout",
     "output_type": "stream",
     "text": [
      "{'biology', 'english', 'mathematics'}\n"
     ]
    }
   ],
   "source": [
    "subjects = {'mathematics', 'biology'}\n",
    "\n",
    "subjects.add('english')\n",
    "\n",
    "print(subjects)"
   ]
  },
  {
   "cell_type": "markdown",
   "id": "920cd90f",
   "metadata": {},
   "source": [
    "**Exercise 2 The following text is given:**\n",
    "\n",
    "text = 'Programming in python.'\n",
    "\n",
    "Follow the next steps:\n",
    "\n",
    "1. Change all letters to lowercase.\n",
    "\n",
    "2. Delete spaces and period.\n",
    "\n",
    "3. Create a set consisting of all letters in the text and assign to letters variable\n",
    "\n",
    "4. Using the appropriate method for sets, remove all vowels from letters set:\n",
    "    vowels = {'a', 'e', 'i', 'o', 'u'}\n",
    "\n",
    "5. Print the number of items in the letters set as shown below.\n",
    "\n",
    "Expected result:\n",
    "\n",
    "Number of items: 8"
   ]
  },
  {
   "cell_type": "code",
   "execution_count": 13,
   "id": "4316049f",
   "metadata": {},
   "outputs": [
    {
     "name": "stdout",
     "output_type": "stream",
     "text": [
      "Number of items: 8\n"
     ]
    }
   ],
   "source": [
    "text = 'Programming in python.'\n",
    "\n",
    "lower_text = text.lower()\n",
    "\n",
    "stripped_text = lower_text.replace(\" \",\"\")\n",
    "#print(stripped_text)\n",
    "noperiod_text = stripped_text.replace('.','')\n",
    "#print(noperiod_text)\n",
    "letters = set(noperiod_text)\n",
    "#print(letters)\n",
    "vowels = {'a', 'e', 'i', 'o', 'u'}\n",
    "consonants = letters.difference(vowels)\n",
    "#print(consonants)\n",
    "print(f'Number of items: {len(consonants)}')"
   ]
  },
  {
   "cell_type": "markdown",
   "id": "291cafd0",
   "metadata": {},
   "source": [
    "**Exercise 3 In mathematics, the symmetric difference of two sets is the set of elements which are in either of the sets, but not in their intersection.**\n",
    "\n",
    "Two following sets are given:\n",
    "\n",
    "A = {2, 4, 6, 8}\n",
    "B = {4, 10}\n",
    "\n",
    "Using the appropriate method, extract the symmetrical difference of sets A and B and print the result to the console as shown below.\n",
    "\n",
    "Expected result:\n",
    "\n",
    "Symmetric difference: {2, 6, 8, 10}"
   ]
  },
  {
   "cell_type": "code",
   "execution_count": 17,
   "id": "0062b12e",
   "metadata": {},
   "outputs": [
    {
     "name": "stdout",
     "output_type": "stream",
     "text": [
      "Symmetric difference: {2, 6, 8, 10}\n"
     ]
    }
   ],
   "source": [
    "A = {2, 4, 6, 8} \n",
    "B = {4, 10}\n",
    "\n",
    "print(f\"Symmetric difference: {A.symmetric_difference(B)}\")"
   ]
  },
  {
   "cell_type": "markdown",
   "id": "df560ae7",
   "metadata": {},
   "source": [
    "**Exercise 4 We have two sets of customer IDs:**\n",
    "\n",
    "ad1_id = {'001', '002', '003'}\n",
    "ad2_id = {'002', '003', '007'}\n",
    "\n",
    "Each set stores the id of the customers who made the purchase based on the specific ad. We have two ads. Each customer can use the offer only twice in campaign. Choose the ID of the customers to whom you can send another ad (or ids that only appeared once in both sets).\n",
    "\n",
    "Expected result:\n",
    "\n",
    "Selected ID: { '007', '001'}\n",
    "\n",
    "Note: Remember that the set is an unordered data structure. You may get a different order of items than the expected result. You don't have to worry about it."
   ]
  },
  {
   "cell_type": "code",
   "execution_count": 18,
   "id": "42bc1d5d",
   "metadata": {},
   "outputs": [
    {
     "name": "stdout",
     "output_type": "stream",
     "text": [
      "Selected ID: {'007', '001'}\n"
     ]
    }
   ],
   "source": [
    "ad1_id = {'001', '002', '003'} \n",
    "ad2_id = {'002', '003', '007'}\n",
    "\n",
    "print(f\"Selected ID: {ad1_id.symmetric_difference(ad2_id)}\")\n"
   ]
  },
  {
   "cell_type": "markdown",
   "id": "157f5631",
   "metadata": {},
   "source": [
    "**Exercise 5 Two customer ID sets are given. The first one tells you whether a person clicked on the banner ad. Second, whether the person purchased the product:**\n",
    "\n",
    "is_clicked = {'9001', '9002', '9005'}\n",
    "is_bought = {'9002', '9004', '9005'}\n",
    "\n",
    "Return the ID of those customers who clicked on the ad and bought the product.\n",
    "\n",
    "Expected result:\n",
    "\n",
    "Customer ID: { '9002', '9005'}\n",
    "\n",
    "Note: Remember that the set is an unordered data structure. You may get a different order of items than the expected result. You don't have to worry about it."
   ]
  },
  {
   "cell_type": "code",
   "execution_count": 20,
   "id": "feedfc5f",
   "metadata": {},
   "outputs": [
    {
     "name": "stdout",
     "output_type": "stream",
     "text": [
      "Customer ID: {'9005', '9002'}\n"
     ]
    }
   ],
   "source": [
    "is_clicked = {'9001', '9002', '9005'}\n",
    "is_bought = {'9002', '9004', '9005'}\n",
    "\n",
    "print(f\"Customer ID: {is_clicked.intersection(is_bought)}\")"
   ]
  },
  {
   "cell_type": "code",
   "execution_count": null,
   "id": "a1cee4b7",
   "metadata": {},
   "outputs": [],
   "source": []
  }
 ],
 "metadata": {
  "kernelspec": {
   "display_name": "Python 3 (ipykernel)",
   "language": "python",
   "name": "python3"
  },
  "language_info": {
   "codemirror_mode": {
    "name": "ipython",
    "version": 3
   },
   "file_extension": ".py",
   "mimetype": "text/x-python",
   "name": "python",
   "nbconvert_exporter": "python",
   "pygments_lexer": "ipython3",
   "version": "3.9.12"
  }
 },
 "nbformat": 4,
 "nbformat_minor": 5
}
