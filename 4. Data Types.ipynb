{
 "cells": [
  {
   "cell_type": "markdown",
   "id": "d8aba737",
   "metadata": {},
   "source": [
    "**Exercise 1 The following variables are given (var1 - empty string, var2 - space, var3 - newline character):**\n",
    "\n",
    "var1 = ''\n",
    "var2 = ' '\n",
    "var3 = '\\n'\n",
    "\n",
    "Print each type of variable on a separate line to the console as shown below.\n",
    "\n",
    "Expected result:\n",
    "\n",
    "<class 'str'>\n",
    "<class 'str'>\n",
    "<class 'str'>\n"
   ]
  },
  {
   "cell_type": "code",
   "execution_count": 2,
   "id": "d6d8db74",
   "metadata": {},
   "outputs": [
    {
     "name": "stdout",
     "output_type": "stream",
     "text": [
      "<class 'str'>\n",
      "<class 'str'>\n",
      "<class 'str'>\n"
     ]
    }
   ],
   "source": [
    "var1 = ''\n",
    "var2 = ' '\n",
    "var3 = '\\n'\n",
    "\n",
    "print(type(var1))\n",
    "print(type(var2))\n",
    "print(type(var3))"
   ]
  },
  {
   "cell_type": "markdown",
   "id": "254f7a69",
   "metadata": {},
   "source": [
    "**Exercise 2 The following variables are given:**\n",
    "\n",
    "var1 = None\n",
    "var2 = False\n",
    "var3 = 'True'\n",
    "\n",
    "Print each type of variable on a separate line to the console as shown below.\n",
    "\n",
    "Expected result:\n",
    "\n",
    "<class 'NoneType'>\n",
    "<class 'bool'>\n",
    "<class 'str'>"
   ]
  },
  {
   "cell_type": "code",
   "execution_count": 3,
   "id": "a4580023",
   "metadata": {},
   "outputs": [
    {
     "name": "stdout",
     "output_type": "stream",
     "text": [
      "<class 'NoneType'>\n",
      "<class 'bool'>\n",
      "<class 'str'>\n"
     ]
    }
   ],
   "source": [
    "var1 = None\n",
    "var2 = False\n",
    "var3 = 'True'\n",
    "\n",
    "print(type(var1))\n",
    "print(type(var2))\n",
    "print(type(var3))"
   ]
  },
  {
   "cell_type": "markdown",
   "id": "4296243c",
   "metadata": {},
   "source": [
    "**Exercise 3 Check if the following variable:**\n",
    "\n",
    "flag = False\n",
    "\n",
    "is an instance of the bool class and print the result to the console.\n",
    "\n",
    "Expected result:\n",
    "\n",
    "True"
   ]
  },
  {
   "cell_type": "code",
   "execution_count": 4,
   "id": "c9a15657",
   "metadata": {},
   "outputs": [
    {
     "name": "stdout",
     "output_type": "stream",
     "text": [
      "True\n"
     ]
    }
   ],
   "source": [
    "flag = False\n",
    "\n",
    "print(not flag)"
   ]
  },
  {
   "cell_type": "code",
   "execution_count": 5,
   "id": "526ebd33",
   "metadata": {},
   "outputs": [
    {
     "name": "stdout",
     "output_type": "stream",
     "text": [
      "True\n"
     ]
    }
   ],
   "source": [
    "flag = False\n",
    "\n",
    "print(isinstance(flag,bool))"
   ]
  },
  {
   "cell_type": "code",
   "execution_count": null,
   "id": "bd19ded7",
   "metadata": {},
   "outputs": [],
   "source": []
  }
 ],
 "metadata": {
  "kernelspec": {
   "display_name": "Python 3 (ipykernel)",
   "language": "python",
   "name": "python3"
  },
  "language_info": {
   "codemirror_mode": {
    "name": "ipython",
    "version": 3
   },
   "file_extension": ".py",
   "mimetype": "text/x-python",
   "name": "python",
   "nbconvert_exporter": "python",
   "pygments_lexer": "ipython3",
   "version": "3.9.12"
  }
 },
 "nbformat": 4,
 "nbformat_minor": 5
}
